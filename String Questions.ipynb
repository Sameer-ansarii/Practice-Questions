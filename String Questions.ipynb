{
 "cells": [
  {
   "cell_type": "raw",
   "id": "4172e2e5",
   "metadata": {},
   "source": [
    "1.What is string?How we create stirng? How to judge wheather its string or not?"
   ]
  },
  {
   "cell_type": "code",
   "execution_count": 1,
   "id": "ae4c0a54",
   "metadata": {},
   "outputs": [
    {
     "name": "stdout",
     "output_type": "stream",
     "text": [
      "Python programming\n",
      "Python programming\n",
      "<class 'str'>\n",
      "<class 'str'>\n"
     ]
    }
   ],
   "source": [
    "# A string is a sequence of characters.used for storing text/characters.\n",
    "\n",
    "# create a string using double quotes\n",
    "str1 = \"Python programming\"\n",
    "print(str1)\n",
    "\n",
    "#note: here we have use double quotes to represent strings but we can use single quotes too. \n",
    "\n",
    "# create a string using single quotes\n",
    "str2 = 'Python programming'\n",
    "print(str2)\n",
    "\n",
    "# to know string type\n",
    "print(type(str1))\n",
    "print(type(str2))"
   ]
  },
  {
   "cell_type": "markdown",
   "id": "9501d25c",
   "metadata": {},
   "source": [
    "2.How we access string characters in python?"
   ]
  },
  {
   "cell_type": "code",
   "execution_count": 2,
   "id": "95816cfe",
   "metadata": {},
   "outputs": [
    {
     "name": "stdout",
     "output_type": "stream",
     "text": [
      "e\n"
     ]
    }
   ],
   "source": [
    "# As string is an ordered collection of data so we can access each characters in string.\n",
    "\n",
    "greet = 'hello'\n",
    "\n",
    "# access 1st index element\n",
    "print(greet[1]) # \"e\""
   ]
  },
  {
   "cell_type": "markdown",
   "id": "2c45f00d",
   "metadata": {},
   "source": [
    "3.Can we access negitive indexcing in string?"
   ]
  },
  {
   "cell_type": "code",
   "execution_count": 3,
   "id": "b3e5d338",
   "metadata": {},
   "outputs": [
    {
     "name": "stdout",
     "output_type": "stream",
     "text": [
      "e\n"
     ]
    }
   ],
   "source": [
    "# yes ,we can \n",
    "\n",
    "greet = 'hello'\n",
    "\n",
    "# access 4th last element\n",
    "print(greet[-4])"
   ]
  },
  {
   "cell_type": "markdown",
   "id": "70bfc5ec",
   "metadata": {},
   "source": [
    "4.Is python string  are immutable and how?"
   ]
  },
  {
   "cell_type": "code",
   "execution_count": 4,
   "id": "e34d9281",
   "metadata": {},
   "outputs": [
    {
     "ename": "TypeError",
     "evalue": "'str' object does not support item assignment",
     "output_type": "error",
     "traceback": [
      "\u001b[1;31m---------------------------------------------------------------------------\u001b[0m",
      "\u001b[1;31mTypeError\u001b[0m                                 Traceback (most recent call last)",
      "\u001b[1;32m~\\AppData\\Local\\Temp\\ipykernel_12536\\1992515278.py\u001b[0m in \u001b[0;36m<module>\u001b[1;34m\u001b[0m\n\u001b[0;32m      1\u001b[0m \u001b[1;31m# Python string is immutable that means the characters of a string cannot be changed.\u001b[0m\u001b[1;33m\u001b[0m\u001b[1;33m\u001b[0m\u001b[0m\n\u001b[0;32m      2\u001b[0m \u001b[0mStr\u001b[0m \u001b[1;33m=\u001b[0m \u001b[1;34m'Hello good morning'\u001b[0m\u001b[1;33m\u001b[0m\u001b[1;33m\u001b[0m\u001b[0m\n\u001b[1;32m----> 3\u001b[1;33m \u001b[0mStr\u001b[0m\u001b[1;33m[\u001b[0m\u001b[1;36m0\u001b[0m\u001b[1;33m]\u001b[0m \u001b[1;33m=\u001b[0m \u001b[1;34m'H'\u001b[0m\u001b[1;33m\u001b[0m\u001b[1;33m\u001b[0m\u001b[0m\n\u001b[0m\u001b[0;32m      4\u001b[0m \u001b[0mprint\u001b[0m\u001b[1;33m(\u001b[0m\u001b[0mStr\u001b[0m\u001b[1;33m)\u001b[0m\u001b[1;33m\u001b[0m\u001b[1;33m\u001b[0m\u001b[0m\n",
      "\u001b[1;31mTypeError\u001b[0m: 'str' object does not support item assignment"
     ]
    }
   ],
   "source": [
    "# Python string is immutable that means the characters of a string cannot be changed.\n",
    "Str = 'Hello good morning'\n",
    "Str[0] = 'H'\n",
    "print(Str)"
   ]
  },
  {
   "cell_type": "markdown",
   "id": "9a143473",
   "metadata": {},
   "source": [
    "5.How to write multiline string?"
   ]
  },
  {
   "cell_type": "code",
   "execution_count": 1,
   "id": "79418f83",
   "metadata": {},
   "outputs": [
    {
     "name": "stdout",
     "output_type": "stream",
     "text": [
      "\n",
      "You cannot change\n",
      "    your future,\n",
      "but,you can change \n",
      "    your habits,\n",
      "and surely your habits\n",
      "will chnage your future.\n",
      "\n"
     ]
    }
   ],
   "source": [
    "# multiline string \n",
    "\n",
    "thought = \"\"\"\n",
    "You cannot change\n",
    "    your future,\n",
    "but,you can change \n",
    "    your habits,\n",
    "and surely your habits\n",
    "will chnage your future.\n",
    "\"\"\"\n",
    "\n",
    "print(thought)"
   ]
  },
  {
   "cell_type": "markdown",
   "id": "7e87bbaa",
   "metadata": {},
   "source": [
    "6.How we can compair 2 strings?"
   ]
  },
  {
   "cell_type": "code",
   "execution_count": 2,
   "id": "ca8b6767",
   "metadata": {},
   "outputs": [
    {
     "name": "stdout",
     "output_type": "stream",
     "text": [
      "False\n",
      "True\n"
     ]
    }
   ],
   "source": [
    "str1 = \"Hello, world!\"\n",
    "str2 = \"I love Python.\"\n",
    "str3 = \"Hello, world!\"\n",
    "\n",
    "# compare str1 and str2\n",
    "print(str1 == str2)\n",
    "\n",
    "# compare str1 and str3\n",
    "print(str1 == str3)"
   ]
  },
  {
   "cell_type": "markdown",
   "id": "980b8f98",
   "metadata": {},
   "source": [
    "6.How we can join/concatenate 2 strings?"
   ]
  },
  {
   "cell_type": "code",
   "execution_count": 3,
   "id": "aa521bcc",
   "metadata": {},
   "outputs": [
    {
     "name": "stdout",
     "output_type": "stream",
     "text": [
      "Hello, Jack\n",
      "Hello, Jack\n"
     ]
    }
   ],
   "source": [
    "str1 = \"Hello, \"\n",
    "str2 = \"Jack\"\n",
    "\n",
    "# using \"+\" operator\n",
    "result = str1+str2\n",
    "print(result)\n",
    "\n",
    "#You can also write it like this(str1+=str2) to concatenate two strings.\n",
    "\n",
    "str1 = \"Hello, \"\n",
    "str2 = \"Jack\"\n",
    "str1+=str2\n",
    "print(str1)\n"
   ]
  },
  {
   "cell_type": "markdown",
   "id": "cc8da176",
   "metadata": {},
   "source": [
    "7.How we iterate a Python String?"
   ]
  },
  {
   "cell_type": "code",
   "execution_count": 4,
   "id": "b0238a03",
   "metadata": {},
   "outputs": [
    {
     "name": "stdout",
     "output_type": "stream",
     "text": [
      "H\n",
      "e\n",
      "l\n",
      "l\n",
      "o\n"
     ]
    }
   ],
   "source": [
    "# We can iterate through a string using a for loop.\n",
    "greet = 'Hello'\n",
    "\n",
    "for letter in greet:\n",
    "    print(letter)"
   ]
  },
  {
   "cell_type": "markdown",
   "id": "ea681f13",
   "metadata": {},
   "source": [
    "8.Can we test if a substring exists within a string or not?"
   ]
  },
  {
   "cell_type": "code",
   "execution_count": 5,
   "id": "17d61da3",
   "metadata": {},
   "outputs": [
    {
     "name": "stdout",
     "output_type": "stream",
     "text": [
      "True\n",
      "False\n"
     ]
    }
   ],
   "source": [
    "# using the keyword \"in\" we can test if a substring exists within a string or not.\n",
    "\n",
    "print('a' in 'program')\n",
    "print('at' not in 'battle')"
   ]
  },
  {
   "cell_type": "markdown",
   "id": "784c06b1",
   "metadata": {},
   "source": [
    "9.what is escape sequences in python? explain with example?"
   ]
  },
  {
   "cell_type": "code",
   "execution_count": 6,
   "id": "bc948360",
   "metadata": {},
   "outputs": [
    {
     "name": "stdout",
     "output_type": "stream",
     "text": [
      "He said, What's there?\n",
      "He said, \"What's there?\"\n"
     ]
    }
   ],
   "source": [
    "# The escape sequence is used to escape some of the characters present inside a string.\n",
    "\n",
    "# escape double quotes\n",
    "example = \"He said, What's there?\"\n",
    "print(example)\n",
    "\n",
    "# escape single quotes\n",
    "example = 'He said, \"What\\'s there?\"'\n",
    "\n",
    "print(example)"
   ]
  },
  {
   "cell_type": "markdown",
   "id": "a916136c",
   "metadata": {},
   "source": [
    "10.write a program on python string formatting?"
   ]
  },
  {
   "cell_type": "code",
   "execution_count": 7,
   "id": "f352a80d",
   "metadata": {},
   "outputs": [
    {
     "name": "stdout",
     "output_type": "stream",
     "text": [
      "enter your full name: \n",
      "enter your country name: \n",
      " is from \n"
     ]
    }
   ],
   "source": [
    "# Python f-Strings make it really easy to print values and variables.\n",
    "\n",
    "name=input(\"enter your full name: \")\n",
    "country =input(\"enter your country name: \")\n",
    "\n",
    "print(f'{name} is from {country}')"
   ]
  },
  {
   "cell_type": "markdown",
   "id": "872cc210",
   "metadata": {},
   "source": [
    "11.Traverse a  string with while loop?"
   ]
  },
  {
   "cell_type": "code",
   "execution_count": 8,
   "id": "959bec8b",
   "metadata": {},
   "outputs": [
    {
     "name": "stdout",
     "output_type": "stream",
     "text": [
      "S\n",
      "T\n",
      "R\n",
      "I\n",
      "N\n",
      "G\n"
     ]
    }
   ],
   "source": [
    "a = \"STRING\"\n",
    "i = 0\n",
    "while i < len(a):\n",
    "    c = a[i]\n",
    "    print(c)\n",
    "    i = i + 1"
   ]
  },
  {
   "cell_type": "markdown",
   "id": "072dfdd3",
   "metadata": {},
   "source": [
    "12.Traverse a string with for loop?"
   ]
  },
  {
   "cell_type": "code",
   "execution_count": 9,
   "id": "e6f6e540",
   "metadata": {},
   "outputs": [
    {
     "name": "stdout",
     "output_type": "stream",
     "text": [
      "P\n",
      " P\n",
      "y\n",
      " Py\n",
      "t\n",
      " Pyt\n",
      "h\n",
      " Pyth\n",
      "o\n",
      " Pytho\n",
      "n\n",
      " Python\n"
     ]
    }
   ],
   "source": [
    "a = \"Python\"\n",
    "i = 0\n",
    "new=\" \"\n",
    "for i in range (0,len(a)):\n",
    "  b=a[i]\n",
    "  # + used for concatenation\n",
    "  new = new+b \n",
    "  i = i + 1\n",
    "  # prints each char on one line\n",
    "  print(b) \n",
    "  print(new)"
   ]
  },
  {
   "cell_type": "code",
   "execution_count": null,
   "id": "17d3875c",
   "metadata": {},
   "outputs": [],
   "source": []
  },
  {
   "cell_type": "markdown",
   "id": "c99ac7ed",
   "metadata": {},
   "source": [
    "13.How we search a character in a string?"
   ]
  },
  {
   "cell_type": "code",
   "execution_count": 10,
   "id": "4f378c3a",
   "metadata": {},
   "outputs": [
    {
     "name": "stdout",
     "output_type": "stream",
     "text": [
      "6\n",
      "1\n"
     ]
    }
   ],
   "source": [
    "def search(char,str):\n",
    "    L=len(str)\n",
    "    print(L)\n",
    "    i = 0\n",
    "    while i < L:\n",
    "        if str[i]== char:\n",
    "            return 1\n",
    "            i = i + 1\n",
    "        return -1\n",
    "print(search(\"P\",\"PYTHON\"))"
   ]
  },
  {
   "cell_type": "markdown",
   "id": "019fec6b",
   "metadata": {},
   "source": [
    "14.Write a Python program to remove the nth index character from a nonempty string?"
   ]
  },
  {
   "cell_type": "code",
   "execution_count": 11,
   "id": "fa5d7839",
   "metadata": {},
   "outputs": [
    {
     "name": "stdout",
     "output_type": "stream",
     "text": [
      "ython\n",
      "Pyton\n",
      "Pytho\n"
     ]
    }
   ],
   "source": [
    "def remove_char(str, n):\n",
    "      first_part = str[:n] \n",
    "      last_part = str[n+1:]\n",
    "      return first_part + last_part\n",
    "print(remove_char('Python', 0))\n",
    "print(remove_char('Python', 3))\n",
    "print(remove_char('Python', 5))"
   ]
  },
  {
   "cell_type": "markdown",
   "id": "760f105c",
   "metadata": {},
   "source": [
    "15.Write a Python program to change a given string to a newly string where the first and last chars have been exchanged?"
   ]
  },
  {
   "cell_type": "code",
   "execution_count": 12,
   "id": "000075fb",
   "metadata": {},
   "outputs": [
    {
     "name": "stdout",
     "output_type": "stream",
     "text": [
      "dbca\n",
      "52341\n"
     ]
    }
   ],
   "source": [
    "def change_string(str1):\n",
    "      return str1[-1:] + str1[1:-1] + str1[:1]\n",
    "\t  \n",
    "print(change_string('abcd'))\n",
    "print(change_string('12345'))"
   ]
  },
  {
   "cell_type": "markdown",
   "id": "db078c31",
   "metadata": {},
   "source": [
    "16.Write a Python function to convert a given string to all uppercase if it contains at least 2 uppercase characters in the first 4 characters?"
   ]
  },
  {
   "cell_type": "code",
   "execution_count": 13,
   "id": "e2eab598",
   "metadata": {},
   "outputs": [
    {
     "name": "stdout",
     "output_type": "stream",
     "text": [
      "Python\n",
      "PYTHON\n"
     ]
    }
   ],
   "source": [
    "def to_uppercase(str1):\n",
    "    num_upper = 0\n",
    "    for letter in str1[:4]: \n",
    "        if letter.upper() == letter:\n",
    "            num_upper += 1\n",
    "    if num_upper >= 2:\n",
    "        return str1.upper()\n",
    "    return str1\n",
    "\n",
    "print(to_uppercase('Python'))\n",
    "print(to_uppercase('PyThon'))"
   ]
  },
  {
   "cell_type": "markdown",
   "id": "00e3de08",
   "metadata": {},
   "source": [
    "17.Write a Python program to print the index of a character in a string? "
   ]
  },
  {
   "cell_type": "code",
   "execution_count": 14,
   "id": "d0614ffa",
   "metadata": {},
   "outputs": [
    {
     "name": "stdout",
     "output_type": "stream",
     "text": [
      "Current character s position at 0\n",
      "Current character a position at 1\n",
      "Current character m position at 2\n",
      "Current character s position at 3\n",
      "Current character u position at 4\n",
      "Current character n position at 5\n",
      "Current character g position at 6\n"
     ]
    }
   ],
   "source": [
    "str1 = \"samsung\"\n",
    "for index, char in enumerate(str1):\n",
    "    print(\"Current character\", char, \"position at\", index )"
   ]
  },
  {
   "cell_type": "markdown",
   "id": "6fd235c0",
   "metadata": {},
   "source": [
    "18.Write a Python program to convert a given string into a list of words?"
   ]
  },
  {
   "cell_type": "code",
   "execution_count": 19,
   "id": "2a336d11",
   "metadata": {},
   "outputs": [
    {
     "name": "stdout",
     "output_type": "stream",
     "text": [
      "['The', 'quick', 'brown', 'fox', 'jumps', 'over', 'the', 'lazy', 'dog.']\n",
      "['The-quick-brown-fox-jumps-over-the-lazy-dog.']\n"
     ]
    }
   ],
   "source": [
    "str1 = \"The quick brown fox jumps over the lazy dog.\"\n",
    "print(str1.split(' '))\n",
    "str1 = \"The-quick-brown-fox-jumps-over-the-lazy-dog.\"\n",
    "print(str1.split('--'))"
   ]
  },
  {
   "cell_type": "markdown",
   "id": "dd2b0d8b",
   "metadata": {},
   "source": [
    "19.Write a Python function that takes a list of words and return the longest word and the length of the longest one?"
   ]
  },
  {
   "cell_type": "code",
   "execution_count": null,
   "id": "8d43fee6",
   "metadata": {},
   "outputs": [],
   "source": [
    "def find_longest_word(words_list):\n",
    "    word_len = []\n",
    "    for n in words_list:\n",
    "        word_len.append((len(n), n))\n",
    "    word_len.sort()\n",
    "    return word_len[-1][0], word_len[-1][1]\n",
    "result = find_longest_word([\"PHP\", \"Exercises\", \"Backend\"])\n",
    "print(\"\\nLongest word: \",result[1])\n",
    "print(\"Length of the longest word: \",result[0])"
   ]
  },
  {
   "cell_type": "markdown",
   "id": "14fb213a",
   "metadata": {},
   "source": [
    "20.Write a Python program to get a string made of the first 2 and last 2 characters of a given string. If the string length is less than 2, return the empty string instead?"
   ]
  },
  {
   "cell_type": "code",
   "execution_count": null,
   "id": "9c6d4c34",
   "metadata": {},
   "outputs": [],
   "source": [
    "def string_both_ends(str):\n",
    "  if len(str) < 2:\n",
    "    return ''\n",
    "\n",
    "  return str[0:2] + str[-2:]\n",
    "\n",
    "print(string_both_ends('hello jack'))"
   ]
  },
  {
   "cell_type": "markdown",
   "id": "af5d5415",
   "metadata": {},
   "source": [
    "21.Write a Python program to add 'ing' at the end of a given string (length should be at least 3). If the given string already ends with 'ing', add 'ly' instead. If the string length of the given string is less than 3, leave it unchanged?"
   ]
  },
  {
   "cell_type": "code",
   "execution_count": null,
   "id": "91aa0cfa",
   "metadata": {},
   "outputs": [],
   "source": [
    "def add_string(str1):\n",
    "  length = len(str1)\n",
    "\n",
    "  if length > 2:\n",
    "    if str1[-3:] == 'ing':\n",
    "      str1 += 'ly'\n",
    "    else:\n",
    "      str1 += 'ing'\n",
    "\n",
    "  return str1\n",
    "print(add_string('ab'))\n",
    "print(add_string('abc'))\n",
    "print(add_string('string'))"
   ]
  },
  {
   "cell_type": "markdown",
   "id": "f869233c",
   "metadata": {},
   "source": [
    "22.Write a Python program to find the smallest and largest words in a given string?"
   ]
  },
  {
   "cell_type": "code",
   "execution_count": null,
   "id": "fc0b97df",
   "metadata": {},
   "outputs": [],
   "source": [
    "def smallest_largest_words(str1):\n",
    "    word = \"\";\n",
    "    all_words = [];\n",
    "    str1 = str1 + \" \";\n",
    "    for i in range(0, len(str1)):\n",
    "        if(str1[i] != ' '):\n",
    "            word = word + str1[i];  \n",
    "        else:\n",
    "            all_words.append(word);  \n",
    "            word = \"\";  \n",
    "          \n",
    "    small = large = all_words[0];  \n",
    "   \n",
    "#Find smallest and largest word in the str1  \n",
    "    for k in range(0, len(all_words)):\n",
    "        if(len(small) > len(all_words[k])):\n",
    "            small = all_words[k];\n",
    "        if(len(large) < len(all_words[k])):\n",
    "            large = all_words[k];\n",
    "    return small,large;\n",
    "\n",
    "str1 = \"Write a Java program to sort an array of given integers using Quick sort Algorithm.\";  \n",
    "print(\"Original Strings:\\n\",str1)\n",
    "small, large = smallest_largest_words(str1)  \n",
    "print(\"Smallest word: \" + small);  \n",
    "print(\"Largest word: \" + large); \n"
   ]
  },
  {
   "cell_type": "markdown",
   "id": "f131452a",
   "metadata": {},
   "source": [
    "23.Write a Python program to check whether a string starts with specified characters"
   ]
  },
  {
   "cell_type": "code",
   "execution_count": 1,
   "id": "671f640b",
   "metadata": {},
   "outputs": [
    {
     "name": "stdout",
     "output_type": "stream",
     "text": [
      "True\n"
     ]
    }
   ],
   "source": [
    "a = \"Species\"\n",
    "print(a.startswith(\"Spec\"))"
   ]
  },
  {
   "cell_type": "markdown",
   "id": "b515b729",
   "metadata": {},
   "source": [
    "24.Write a Python program to remove the nth index character from a non empty string"
   ]
  },
  {
   "cell_type": "code",
   "execution_count": 2,
   "id": "e30c0651",
   "metadata": {},
   "outputs": [
    {
     "name": "stdout",
     "output_type": "stream",
     "text": [
      "IT ACADEMY\n",
      "IITACADEMY\n",
      "FARM HOUSE\n"
     ]
    }
   ],
   "source": [
    " def remove_character(str,n):\n",
    "    first_part = str[:n]\n",
    "    last_part = str[n+1:]\n",
    "    return first_part + last_part\n",
    "print(remove_character('IIT ACADEMY',0))\n",
    "print(remove_character('IIT ACADEMY',3))\n",
    "print(remove_character('FARM HAOUSE',6))"
   ]
  },
  {
   "cell_type": "markdown",
   "id": "f06c8135",
   "metadata": {},
   "source": [
    "25.Write a Python program to print the following string in a specific format. \"Twinkle, twinkle, little star, How I wonder what you are! Up above the world so high, Like a diamond in the sky.\""
   ]
  },
  {
   "cell_type": "code",
   "execution_count": 3,
   "id": "c27b4276",
   "metadata": {},
   "outputs": [
    {
     "name": "stdout",
     "output_type": "stream",
     "text": [
      "Twinkle, twinkle, little star, \n",
      "How I wonder what you are! \n",
      "Up above the world so high, \n",
      "Like a diamond in the sky. \n"
     ]
    }
   ],
   "source": [
    "print(\"Twinkle, twinkle, little star, \\nHow I wonder what you are! \\nUp above the world so high, \\nLike a diamond in the sky. \")\n"
   ]
  },
  {
   "cell_type": "markdown",
   "id": "493cdc67",
   "metadata": {},
   "source": [
    "26.Write a Python program to get the last part of a string before a specified character."
   ]
  },
  {
   "cell_type": "code",
   "execution_count": null,
   "id": "6bc0f9c1",
   "metadata": {},
   "outputs": [],
   "source": [
    "str1 = 'https://www.ekeeda.com/-institute/string'\n",
    "print(str1.rsplit('/', 1)[0])\n",
    "print(str1.rsplit('-', 1)[0])\n"
   ]
  },
  {
   "cell_type": "markdown",
   "id": "708e31b4",
   "metadata": {},
   "source": [
    "27.Write a Python program to reverse a string"
   ]
  },
  {
   "cell_type": "code",
   "execution_count": null,
   "id": "fd1a32d5",
   "metadata": {},
   "outputs": [],
   "source": [
    "str1= \"STRINGS\"\n",
    "str2= \"PYTHON\"\n",
    "def reverse_string(str1):\n",
    "    return ''.join(reversed(str1))\n",
    "print()\n",
    "print(reverse_string(str1))\n",
    "print(reverse_string(str2))\n",
    "print()"
   ]
  },
  {
   "cell_type": "markdown",
   "id": "62b5cb12",
   "metadata": {},
   "source": [
    "28.Write a Python program to print the following numbers up to 2 decimal places with a sign"
   ]
  },
  {
   "cell_type": "code",
   "execution_count": null,
   "id": "0b371d29",
   "metadata": {},
   "outputs": [],
   "source": [
    "x = 3.1415926\n",
    "y = -12.9999\n",
    "print(\"\\nOriginal Number: \", x)\n",
    "print(\"Formatted Number with sign: \"+\"{:+.2f}\".format(x));\n",
    "print(\"Original Number: \", y)\n",
    "print(\"Formatted Number with sign: \"+\"{:+.2f}\".format(y));\n",
    "print()"
   ]
  },
  {
   "cell_type": "markdown",
   "id": "48166140",
   "metadata": {},
   "source": [
    "29.Write a Python program to remove characters that have odd index values in a given string."
   ]
  },
  {
   "cell_type": "code",
   "execution_count": null,
   "id": "9bf84cbd",
   "metadata": {},
   "outputs": [],
   "source": [
    "str1='PRODUCTION'\n",
    "def odd_values_string(str):\n",
    "  result = \"\" \n",
    "  for i in range(len(str)):\n",
    "    if i % 2 == 0:\n",
    "      result = result + str[i]\n",
    "  return result\n",
    "\n",
    "print(odd_values_string(str1))"
   ]
  },
  {
   "cell_type": "markdown",
   "id": "0e2b6ec5",
   "metadata": {},
   "source": [
    "30.Write a Python program to convert all the starting letter of a word in upper case format or in the title format."
   ]
  },
  {
   "cell_type": "code",
   "execution_count": null,
   "id": "450160ea",
   "metadata": {},
   "outputs": [],
   "source": [
    "str1 = \"hello this is pythonlobby\"\n",
    "new_str = str1.title()\n",
    "print(new_str)"
   ]
  },
  {
   "cell_type": "markdown",
   "id": "ac905dd0",
   "metadata": {},
   "source": [
    "31.Write a program to count vowels and consonants in a string"
   ]
  },
  {
   "cell_type": "code",
   "execution_count": null,
   "id": "116df2fe",
   "metadata": {},
   "outputs": [],
   "source": [
    "n = input(\"Enter a Word \")\n",
    "vow = 0\n",
    "con = 0\n",
    "for i in range(len(n)):\n",
    "    if n[i] in ['A','E','I','O','U']:\n",
    "        vow = vow + 1\n",
    "    else:\n",
    "        con = con + 1\n",
    "print(\"Total vowels are:\", vow)\n",
    "print(\"Total conconants are:\", con)"
   ]
  },
  {
   "cell_type": "markdown",
   "id": "04f90150",
   "metadata": {},
   "source": [
    "----------x-----------x-----------x-----------x-----------x-----------x----------x-----------x-----------x----------x-----------"
   ]
  }
 ],
 "metadata": {
  "kernelspec": {
   "display_name": "Python 3 (ipykernel)",
   "language": "python",
   "name": "python3"
  },
  "language_info": {
   "codemirror_mode": {
    "name": "ipython",
    "version": 3
   },
   "file_extension": ".py",
   "mimetype": "text/x-python",
   "name": "python",
   "nbconvert_exporter": "python",
   "pygments_lexer": "ipython3",
   "version": "3.9.13"
  }
 },
 "nbformat": 4,
 "nbformat_minor": 5
}
