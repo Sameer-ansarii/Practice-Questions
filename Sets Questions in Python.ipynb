{
 "cells": [
  {
   "cell_type": "code",
   "execution_count": 1,
   "id": "a952cfd1",
   "metadata": {},
   "outputs": [
    {
     "name": "stdout",
     "output_type": "stream",
     "text": [
      "{2, 4, 6, 8, 10}\n",
      "<class 'set'>\n",
      "{'India', 'UK', 'China', 'France', 'USA', 'Russia'}\n",
      "<class 'set'>\n",
      "{'l', 'G', 'e', 'T', 'y', 'a', 't', 'u', 'r', 'w', 'o', ' ', 'i'}\n",
      "<class 'set'>\n"
     ]
    }
   ],
   "source": [
    "#1. Create a Set\n",
    "s1 = {2, 4, 6, 8, 10}\n",
    "print(s1)\n",
    "print(type(s1))\n",
    "s2 = set(('USA', 'China', 'UK', 'Russia', 'India', 'France'))\n",
    "print(s2)\n",
    "print(type(s2))\n",
    "s3 = set(\"Tutorial Gateway\")\n",
    "print(s3)\n",
    "print(type(s3))"
   ]
  },
  {
   "cell_type": "code",
   "execution_count": 4,
   "id": "56e16454",
   "metadata": {},
   "outputs": [
    {
     "name": "stdout",
     "output_type": "stream",
     "text": [
      "{1, 3, 'mango', 4, 'apple', 'banana'}\n"
     ]
    }
   ],
   "source": [
    "#2. Adding single element to the set\n",
    "set={1,'apple','mango',3,4}\n",
    "set.add('banana')\n",
    "print(set)"
   ]
  },
  {
   "cell_type": "code",
   "execution_count": 2,
   "id": "6db98af9",
   "metadata": {},
   "outputs": [
    {
     "name": "stdout",
     "output_type": "stream",
     "text": [
      "0 1 2 3 4 5 \n",
      "\n",
      "Creating a set using string:\n",
      "a h r c i p "
     ]
    }
   ],
   "source": [
    "#3. Write a Python program to iterate over sets. \n",
    "\n",
    "num_set = set([0, 1, 2, 3, 4, 5])\n",
    "for n in num_set:\n",
    "  print(n, end=' ')\n",
    "print(\"\\n\\nCreating a set using string:\")\n",
    "char_set = set(\"prachi\")  \n",
    "# Iterating using for loop\n",
    "for val in char_set:\n",
    "    print(val, end=' ')"
   ]
  },
  {
   "cell_type": "code",
   "execution_count": 5,
   "id": "d98a0d8c",
   "metadata": {},
   "outputs": [
    {
     "name": "stdout",
     "output_type": "stream",
     "text": [
      "A is subset of B: True\n",
      "B is subset of A: False\n"
     ]
    }
   ],
   "source": [
    "#4.check if a set a subset of another set?\n",
    "A={'a','c','e'}\n",
    "B={'a','b','c','d','e'}\n",
    "print('A is subset of B:',A.issubset(B))\n",
    "print('B is subset of A:',B.issubset(A))"
   ]
  },
  {
   "cell_type": "code",
   "execution_count": 6,
   "id": "819d5e3c",
   "metadata": {},
   "outputs": [
    {
     "name": "stdout",
     "output_type": "stream",
     "text": [
      "A subset of B: True\n",
      "B subset of A: False\n"
     ]
    }
   ],
   "source": [
    "#5.Write a python program to check if a set is a subset, using comparison operators.\n",
    "a={'a','b'}\n",
    "b={'a','b','c'}\n",
    "print(\"A subset of B:\",a<=b)\n",
    "print(\"B subset of A:\",b<=a)"
   ]
  },
  {
   "cell_type": "code",
   "execution_count": 4,
   "id": "7c29d013",
   "metadata": {},
   "outputs": [
    {
     "name": "stdout",
     "output_type": "stream",
     "text": [
      "Yes,'apple'is in this set\n"
     ]
    }
   ],
   "source": [
    "#6.Check if a specific value in a set.\n",
    "thisset={\"apple\",\"banana\",\"cherry\"}\n",
    "if \"apple\" in thisset:\n",
    "     print(\"Yes,'apple'is in this set\")"
   ]
  },
  {
   "cell_type": "code",
   "execution_count": 13,
   "id": "01ebd5b7",
   "metadata": {},
   "outputs": [
    {
     "name": "stdout",
     "output_type": "stream",
     "text": [
      "set()\n",
      "\n",
      "Add single element:\n",
      "{'red'}\n",
      "\n",
      "Add multiple items:\n",
      "{'green', 'red', 'Blue'}\n"
     ]
    }
   ],
   "source": [
    "#7. Write a Python program to add member(s) to a set. \n",
    "\n",
    "#A new empty set\n",
    "color_set = set()\n",
    "print(color_set)\n",
    "print(\"\\nAdd single element:\")\n",
    "color_set.add(\"red\")\n",
    "print(color_set)\n",
    "print(\"\\nAdd multiple items:\")\n",
    "color_set.update([\"Blue\", \"green\"])\n",
    "print(color_set)"
   ]
  },
  {
   "cell_type": "code",
   "execution_count": 14,
   "id": "3a371ff4",
   "metadata": {},
   "outputs": [
    {
     "name": "stdout",
     "output_type": "stream",
     "text": [
      "Original set:\n",
      "{0, 1, 3, 4, 5}\n",
      "\n",
      "After removing the first element from the said set:\n",
      "{1, 3, 4, 5}\n"
     ]
    }
   ],
   "source": [
    "#8. Write a Python program to remove item(s) from a given set.\n",
    "\n",
    "num_set = set([0, 1, 3, 4, 5])\n",
    "print(\"Original set:\")\n",
    "print(num_set)\n",
    "num_set.pop()\n",
    "print(\"\\nAfter removing the first element from the said set:\")\n",
    "print(num_set)"
   ]
  },
  {
   "cell_type": "code",
   "execution_count": 5,
   "id": "2c78ed13",
   "metadata": {},
   "outputs": [
    {
     "name": "stdout",
     "output_type": "stream",
     "text": [
      "Original set elements:\n",
      "{10, 11, 12, 13, 14, 15}\n",
      "\n",
      "Remove 0 from the said set:\n",
      "{10, 11, 12, 13, 14, 15}\n",
      "\n",
      "Remove 5 from the said set:\n",
      "{10, 11, 12, 13, 14, 15}\n",
      "\n",
      "Remove 2 from the said set:\n",
      "{10, 11, 12, 13, 14, 15}\n",
      "\n",
      "Remove 7 from the said set:\n",
      "{10, 11, 12, 13, 14}\n"
     ]
    }
   ],
   "source": [
    "#9. Write a Python program to remove an item from a set if it is present in the set.\n",
    "\n",
    "#Create a new set\n",
    "num_set = set([10,11,12,13,14,15])\n",
    "print(\"Original set elements:\")\n",
    "print(num_set)\n",
    "print(\"\\nRemove 0 from the said set:\")\n",
    "num_set.discard(4)\n",
    "print(num_set)\n",
    "print(\"\\nRemove 5 from the said set:\")\n",
    "num_set.discard(5)\n",
    "print(num_set)\n",
    "print(\"\\nRemove 2 from the said set:\")\n",
    "num_set.discard(5)\n",
    "print(num_set)\n",
    "print(\"\\nRemove 7 from the said set:\")\n",
    "num_set.discard(15)\n",
    "print(num_set)\n"
   ]
  },
  {
   "cell_type": "code",
   "execution_count": 20,
   "id": "33522919",
   "metadata": {},
   "outputs": [
    {
     "name": "stdout",
     "output_type": "stream",
     "text": [
      "Original set elements:\n",
      "{'green', 'blue'}\n",
      "{'blue', 'yellow'}\n",
      "\n",
      "Intersection of two said sets:\n",
      "{'blue'}\n"
     ]
    }
   ],
   "source": [
    "#10. Write a Python program to create an intersection of sets.\n",
    "\n",
    "setx = set([\"green\", \"blue\"])\n",
    "sety = set([\"blue\", \"yellow\"])\n",
    "print(\"Original set elements:\")\n",
    "print(setx)\n",
    "print(sety)\n",
    "print(\"\\nIntersection of two said sets:\")\n",
    "setz = setx & sety\n",
    "print(setz)"
   ]
  },
  {
   "cell_type": "code",
   "execution_count": 21,
   "id": "a2f809f5",
   "metadata": {},
   "outputs": [
    {
     "name": "stdout",
     "output_type": "stream",
     "text": [
      "Original sets:\n",
      "{'green', 'blue'}\n",
      "{'blue', 'yellow'}\n",
      "\n",
      "Union of above sets:\n",
      "{'green', 'yellow', 'blue'}\n",
      "\n",
      "Original sets:\n",
      "{1, 2, 3, 4, 5}\n",
      "{1, 5, 6, 7, 8, 9}\n",
      "\n",
      "Union of above sets:\n",
      "{1, 2, 3, 4, 5, 6, 7, 8, 9}\n"
     ]
    }
   ],
   "source": [
    "#11. Write a Python program to create a union of sets.\n",
    "\n",
    "setc1 = set([\"green\", \"blue\"])\n",
    "setc2 = set([\"blue\", \"yellow\"])\n",
    "print(\"Original sets:\")\n",
    "print(setc1)\n",
    "print(setc2)\n",
    "setc = setc1.union(setc2)\n",
    "print(\"\\nUnion of above sets:\")\n",
    "print(setc)\n",
    "setn1 = set([1, 1, 2, 3, 4, 5])\n",
    "setn2 = set([1, 5, 6, 7, 8, 9])\n",
    "print(\"\\nOriginal sets:\")\n",
    "print(setn1)\n",
    "print(setn2)\n",
    "print(\"\\nUnion of above sets:\")\n",
    "setn = setn1.union(setn2)\n",
    "print(setn)\n",
    "\n"
   ]
  },
  {
   "cell_type": "code",
   "execution_count": 30,
   "id": "044a0b07",
   "metadata": {},
   "outputs": [
    {
     "name": "stdout",
     "output_type": "stream",
     "text": [
      "Original set elements:\n",
      "{'Black', 'Green', 'Red', 'White'}\n",
      "\n",
      "After removing all elements of the said set.\n",
      "set()\n"
     ]
    }
   ],
   "source": [
    "#12. Write a Python program to remove all elements from a given set. \n",
    "\n",
    "setc = {\"Red\", \"Green\", \"Black\", \"White\"}\n",
    "print(\"Original set elements:\")\n",
    "print(setc)        \n",
    "print(\"\\nAfter removing all elements of the said set.\")\n",
    "setc.clear()\n",
    "print(setc)"
   ]
  },
  {
   "cell_type": "code",
   "execution_count": 17,
   "id": "6d636187",
   "metadata": {},
   "outputs": [
    {
     "name": "stdout",
     "output_type": "stream",
     "text": [
      "False\n",
      "frozenset({1, 2})\n",
      "frozenset({1, 2, 3, 4, 5, 6, 7})\n"
     ]
    }
   ],
   "source": [
    "#9. Write a Python program that uses frozensets.\n",
    "\n",
    "x = frozenset([1, 2, 3, 4, 5])\n",
    "y = frozenset([3, 4, 5, 6, 7])\n",
    "#use isdisjoint(). Return True if the set has no elements in common with other. \n",
    "print(x.isdisjoint(y))\n",
    "#use difference(). Return a new set with elements in the set that are not in the others.\n",
    "print(x.difference(y))\n",
    "#new set with elements from both x and y\n",
    "print(x | y)"
   ]
  },
  {
   "cell_type": "code",
   "execution_count": 13,
   "id": "32f68902",
   "metadata": {},
   "outputs": [
    {
     "name": "stdout",
     "output_type": "stream",
     "text": [
      "Original set elements:\n",
      "{1, 2, 3, 20, 5, 10, 15}\n",
      "<class 'set'>\n",
      "\n",
      "Maximum value of the said set:\n",
      "20\n",
      "\n",
      "Minimum value of the said set:\n",
      "1\n"
     ]
    }
   ],
   "source": [
    "\n",
    "#14. Write a Python program to find the maximum and minimum values in a set.\n",
    "\n",
    "#Create a set\n",
    "setn = {1, 5, 10, 3, 15, 2, 20}\n",
    "print(\"Original set elements:\")\n",
    "print(setn)\n",
    "print(type(setn))\n",
    "print(\"\\nMaximum value of the said set:\")\n",
    "print(max(setn))\n",
    "print(\"\\nMinimum value of the said set:\")\n",
    "print(min(setn))\n"
   ]
  },
  {
   "cell_type": "code",
   "execution_count": 6,
   "id": "c1644263",
   "metadata": {},
   "outputs": [
    {
     "name": "stdout",
     "output_type": "stream",
     "text": [
      "Original set elements:\n",
      "{2, 3, 20, 5, 10, 15}\n",
      "<class 'set'>\n",
      "\n",
      "Length of the said set:\n",
      "6\n",
      "Original set elements:\n",
      "{5}\n",
      "<class 'set'>\n",
      "\n",
      "Length of the said set:\n",
      "1\n",
      "Original set elements:\n",
      "{5, 7}\n",
      "<class 'set'>\n",
      "\n",
      "Length of the said set:\n",
      "2\n"
     ]
    }
   ],
   "source": [
    "#15. Write a Python program to find the length of a set.\n",
    "\n",
    "#Create a set\n",
    "setn = {5, 10, 3, 15, 2, 20}\n",
    "print(\"Original set elements:\")\n",
    "print(setn)\n",
    "print(type(setn))\n",
    "print(\"\\nLength of the said set:\")\n",
    "print(len(setn))\n",
    "\n",
    "setn = {5, 5, 5, 5, 5, 5}\n",
    "print(\"Original set elements:\")\n",
    "print(setn)\n",
    "print(type(setn))\n",
    "print(\"\\nLength of the said set:\")\n",
    "print(len(setn))\n",
    "\n",
    "setn = {5, 5, 5, 5, 5, 5, 7}\n",
    "print(\"Original set elements:\")\n",
    "print(setn)\n",
    "print(type(setn))\n",
    "print(\"\\nLength of the said set:\")\n",
    "print(len(setn))\n"
   ]
  },
  {
   "cell_type": "code",
   "execution_count": 14,
   "id": "43aafba0",
   "metadata": {},
   "outputs": [
    {
     "name": "stdout",
     "output_type": "stream",
     "text": [
      "Original set elements:\n",
      "{1, 2, 3, 4}\n",
      "{4, 5, 6, 7}\n",
      "{8}\n",
      "\n",
      "Confirm two given sets have no element(s) in common:\n",
      "\n",
      "Compare x and y:\n",
      "False\n",
      "\n",
      "Compare x and z:\n",
      "True\n",
      "\n",
      "Compare y and z:\n",
      "True\n"
     ]
    }
   ],
   "source": [
    "#16. Write a Python program to check if two given sets have no elements in common.\n",
    "\n",
    "x = {1,2,3,4}\n",
    "y = {4,5,6,7}\n",
    "z = {8}\n",
    "print(\"Original set elements:\")\n",
    "print(x)\n",
    "print(y)\n",
    "print(z)\n",
    "print(\"\\nConfirm two given sets have no element(s) in common:\")\n",
    "print(\"\\nCompare x and y:\")\n",
    "print(x.isdisjoint(y))\n",
    "print(\"\\nCompare x and z:\")\n",
    "print(z.isdisjoint(x))\n",
    "print(\"\\nCompare y and z:\")\n",
    "print(y.isdisjoint(z))"
   ]
  },
  {
   "cell_type": "code",
   "execution_count": 15,
   "id": "885f751a",
   "metadata": {},
   "outputs": [
    {
     "name": "stdout",
     "output_type": "stream",
     "text": [
      "Original sets:\n",
      "{1, 2, 3, 4, 5}\n",
      "{4, 5, 6, 7, 8}\n",
      "\n",
      "Remove the intersection of a 2nd set from the 1st set using difference_update():\n",
      "sn1:  {1, 2, 3}\n",
      "sn2:  {4, 5, 6, 7, 8}\n",
      "\n",
      "Remove the intersection of a 2nd set from the 1st set using -= operator:\n",
      "sn1:  {1, 2, 3}\n",
      "sn2:  {4, 5, 6, 7, 8}\n"
     ]
    }
   ],
   "source": [
    "#17. Write a Python program to remove the intersection of a second set with a first set.\n",
    "\n",
    "sn1 = {1,2,3,4,5}\n",
    "sn2 = {4,5,6,7,8}\n",
    "print(\"Original sets:\")\n",
    "print(sn1)\n",
    "print(sn2)\n",
    "print(\"\\nRemove the intersection of a 2nd set from the 1st set using difference_update():\")\n",
    "sn1.difference_update(sn2)\n",
    "print(\"sn1: \",sn1)\n",
    "print(\"sn2: \",sn2)\n",
    "sn1 = {1,2,3,4,5}\n",
    "sn2 = {4,5,6,7,8}\n",
    "print(\"\\nRemove the intersection of a 2nd set from the 1st set using -= operator:\")\n",
    "sn1-=sn2\n",
    "print(\"sn1: \",sn1)\n",
    "print(\"sn2: \",sn2)"
   ]
  },
  {
   "cell_type": "code",
   "execution_count": 16,
   "id": "a2a5f569",
   "metadata": {},
   "outputs": [
    {
     "name": "stdout",
     "output_type": "stream",
     "text": [
      "<class 'set'>   {'b', 'd', 'c', 'a', 'e'}\n",
      "<class 'tuple'>   ('b', 'd', 'c', 'a', 'e')\n"
     ]
    }
   ],
   "source": [
    "#18. Python program to convert Set into Tuple and Tuple into Set.\n",
    "\n",
    "#   program to convert set to tuple\n",
    "# create set\n",
    "\n",
    "s = {'a', 'b', 'c', 'd', 'e'}\n",
    " \n",
    "# print set\n",
    "\n",
    "print(type(s), \" \", s)\n",
    " \n",
    "# call tuple() method \n",
    "# this method convert set to tuple\n",
    "\n",
    "t = tuple(s)\n",
    " \n",
    "# print tuple\n",
    "\n",
    "print(type(t), \" \", t)"
   ]
  },
  {
   "cell_type": "code",
   "execution_count": 5,
   "id": "ca80008a",
   "metadata": {},
   "outputs": [
    {
     "name": "stdout",
     "output_type": "stream",
     "text": [
      "Initially\n",
      "The datatype of s : <class 'set'>\n",
      "Contents of s :  {'a', 'b', 'c', 'd'}\n",
      "\n",
      "After the conversion\n",
      "The datatype of s : <class 'str'>\n",
      "Contents of s : {'a', 'b', 'c', 'd'}\n"
     ]
    }
   ],
   "source": [
    "#19. Convert Set to String in Python.\n",
    "\n",
    "# create a set \n",
    "\n",
    "s = {'a', 'b', 'c', 'd'} \n",
    "\n",
    "print(\"Initially\") \n",
    "\n",
    "print(\"The datatype of s : \" + str(type(s))) \n",
    "\n",
    "print(\"Contents of s : \", s) \n",
    "\n",
    "  \n",
    "# convert Set to String \n",
    "\n",
    "s = str(s) \n",
    "\n",
    "print(\"\\nAfter the conversion\") \n",
    "\n",
    "print(\"The datatype of s : \" + str(type(s))) \n",
    "\n",
    "print(\"Contents of s : \" + s) "
   ]
  },
  {
   "cell_type": "code",
   "execution_count": 7,
   "id": "251cde15",
   "metadata": {},
   "outputs": [
    {
     "name": "stdout",
     "output_type": "stream",
     "text": [
      "No. of vowels : 5\n"
     ]
    }
   ],
   "source": [
    "#20. Python program to count number of vowels using sets in given string.\n",
    "\n",
    "def vowel_count(str):\n",
    "\n",
    "     \n",
    "\n",
    "    # Initializing count variable to 0\n",
    "\n",
    "    count = 0\n",
    "\n",
    "     \n",
    "\n",
    "    # Creating a set of vowels\n",
    "\n",
    "    vowel = set(\"aeiouAEIOU\")\n",
    "\n",
    "     \n",
    "\n",
    "    # Loop to traverse the alphabet\n",
    "\n",
    "    # in the given string\n",
    "\n",
    "    for alphabet in str:\n",
    "\n",
    "     \n",
    "\n",
    "        # If alphabet is present\n",
    "\n",
    "        # in set vowel\n",
    "\n",
    "        if alphabet in vowel:\n",
    "\n",
    "            count = count + 1\n",
    "\n",
    "     \n",
    "\n",
    "    print(\"No. of vowels :\", count)\n",
    "\n",
    "     \n",
    "# Driver code \n",
    "\n",
    "str = \"GeeksforGeeks\"\n",
    " \n",
    "# Function Call\n",
    "\n",
    "vowel_count(str)"
   ]
  },
  {
   "cell_type": "code",
   "execution_count": 9,
   "id": "6bfed691",
   "metadata": {},
   "outputs": [
    {
     "name": "stdout",
     "output_type": "stream",
     "text": [
      "{3, 4, 5, 6, 8, 9, 10}\n"
     ]
    }
   ],
   "source": [
    "#21. Using symmetric_difference() method.\n",
    "\n",
    "a = {1,2,3,4,5,6}  \n",
    "b = {1,2,9,8,10}  \n",
    "c = a.symmetric_difference(b)  \n",
    "print(c)  "
   ]
  },
  {
   "cell_type": "code",
   "execution_count": 10,
   "id": "9856d5ca",
   "metadata": {},
   "outputs": [
    {
     "name": "stdout",
     "output_type": "stream",
     "text": [
      "Set 1 : {5, 6, 7, 8, 9, 10, 11, 12, 13, 14}\n",
      "\n",
      "Set 2 : {('J', 'O', 'E'), 20, ('Python', 'C'), 10, 11}\n",
      "Union :  {5, 6, 7, 8, 9, 10, 11, 12, 13, 14, ('J', 'O', 'E'), 20, ('Python', 'C')}\n",
      "Symmetric Difference : {5, 6, 7, 8, 9, 12, 13, 14, 20, ('J', 'O', 'E'), ('Python', 'C')}\n",
      "Intersection : {10, 11}\n"
     ]
    }
   ],
   "source": [
    "#22. Find the union, symmetric difference, and intersection of the two sets. Print the results of each operation.\n",
    "\n",
    "s = set()\n",
    "s.update(range(5, 15))\n",
    " \n",
    "val = { 11, (\"Python\", \"C\"), ('J','O','E'),10 , 20 }\n",
    "print(\"Set 1 :\",s)\n",
    "print(\"\\nSet 2 :\",val)\n",
    "print(\"Union : \",s.union(val))\n",
    "print(\"Symmetric Difference :\",s.symmetric_difference(val))\n",
    "print(\"Intersection :\",s.intersection(val))"
   ]
  },
  {
   "cell_type": "code",
   "execution_count": 11,
   "id": "b2b24db7",
   "metadata": {},
   "outputs": [
    {
     "name": "stdout",
     "output_type": "stream",
     "text": [
      "Original sets:\n",
      "A : {80, 50, 20, 70, 40, 30}\n",
      "B :  {50, 20, 90, 40, 10, 60}\n",
      "\n",
      "Difference of a - b: {80, 70, 30}\n",
      "\n",
      "Difference of b - a: {90, 10, 60}\n"
     ]
    }
   ],
   "source": [
    "#23. Write a Python program to create set difference.\n",
    "\n",
    "a = {30,40,70,20,80,50}\n",
    "b = {20,50,60,40,90,10}\n",
    "print(\"Original sets:\")\n",
    "print(\"A :\",a)\n",
    "print(\"B : \",b)\n",
    "res1 = a.difference(b)\n",
    "print(\"\\nDifference of a - b:\",res1)\n",
    "res2 = b.difference(a)\n",
    "print(\"\\nDifference of b - a:\",res2)"
   ]
  },
  {
   "cell_type": "code",
   "execution_count": 12,
   "id": "15b3f6e3",
   "metadata": {},
   "outputs": [
    {
     "name": "stdout",
     "output_type": "stream",
     "text": [
      "Original set Values :  {50, 20, 70, 60, 30}\n",
      "Remove 0 from the said set :  {50, 70, 60, 30}\n",
      "Remove 50 from the said set :  {70, 60, 30}\n",
      "{70, 60, 30}\n",
      "{70, 60, 30}\n"
     ]
    }
   ],
   "source": [
    "#24. Write a Python program to remove an item from a set if it is present in the set.\n",
    "\n",
    "s = {30,50,70,20,30,60}\n",
    "print(\"Original set Values : \",s)\n",
    "s.discard(20)\n",
    "print(\"Remove 0 from the said set : \",s)\n",
    "s.discard(50)\n",
    "print(\"Remove 50 from the said set : \",s)\n",
    "s.discard(5)\n",
    "print(s)\n",
    "s.discard(15)\n",
    "print(s)"
   ]
  },
  {
   "cell_type": "code",
   "execution_count": 10,
   "id": "5e97e824",
   "metadata": {},
   "outputs": [
    {
     "name": "stdout",
     "output_type": "stream",
     "text": [
      "initial string {1, 2, 3, 4, 5}\n",
      "<class 'set'>\n",
      "final list {1: 0, 2: 0, 3: 0, 4: 0, 5: 0}\n",
      "<class 'dict'>\n"
     ]
    }
   ],
   "source": [
    "#25.convert a set into dictionary.\n",
    "\n",
    "ini_set = {1, 2, 3, 4, 5}\n",
    " \n",
    "# printing initialized set\n",
    "\n",
    "print (\"initial string\", ini_set)\n",
    "\n",
    "print (type(ini_set))\n",
    " \n",
    "# Converting set to dictionary\n",
    "\n",
    "res = dict.fromkeys(ini_set, 0)\n",
    " \n",
    "# printing final result and its type\n",
    "\n",
    "print (\"final list\", res)\n",
    "\n",
    "print (type(res))"
   ]
  },
  {
   "cell_type": "code",
   "execution_count": 11,
   "id": "f3f7a087",
   "metadata": {},
   "outputs": [
    {
     "ename": "NameError",
     "evalue": "name '_name_' is not defined",
     "output_type": "error",
     "traceback": [
      "\u001b[1;31m---------------------------------------------------------------------------\u001b[0m",
      "\u001b[1;31mNameError\u001b[0m                                 Traceback (most recent call last)",
      "\u001b[1;32m~\\AppData\\Local\\Temp\\ipykernel_9624\\2447464956.py\u001b[0m in \u001b[0;36m<module>\u001b[1;34m\u001b[0m\n\u001b[0;32m     25\u001b[0m \u001b[1;33m\u001b[0m\u001b[0m\n\u001b[0;32m     26\u001b[0m \u001b[1;33m\u001b[0m\u001b[0m\n\u001b[1;32m---> 27\u001b[1;33m \u001b[1;32mif\u001b[0m \u001b[0m_name_\u001b[0m \u001b[1;33m==\u001b[0m \u001b[1;34m\"_main_\"\u001b[0m\u001b[1;33m:\u001b[0m\u001b[1;33m\u001b[0m\u001b[1;33m\u001b[0m\u001b[0m\n\u001b[0m\u001b[0;32m     28\u001b[0m \u001b[1;33m\u001b[0m\u001b[0m\n\u001b[0;32m     29\u001b[0m \u001b[1;33m\u001b[0m\u001b[0m\n",
      "\u001b[1;31mNameError\u001b[0m: name '_name_' is not defined"
     ]
    }
   ],
   "source": [
    "#26.check if a given string is binary string or not.\n",
    "\n",
    "def check(string):\n",
    " \n",
    "\n",
    "    # set function convert string\n",
    "\n",
    "    # into set of characters .\n",
    "\n",
    "    p = set(string)\n",
    " \n",
    "\n",
    "    # declare set of '0', '1' .\n",
    "\n",
    "    s = {'0', '1'}\n",
    " \n",
    "\n",
    "    if s == p or p == {'0'} or p == {'1'}:\n",
    "\n",
    "        print(\"Yes\")\n",
    "\n",
    "    else:\n",
    "\n",
    "        print(\"No\")\n",
    "\n",
    "\n",
    "if _name_ == \"_main_\":\n",
    " \n",
    "\n",
    "    string = \"101010000111\"\n",
    " \n",
    "\n",
    "    # function calling\n",
    "\n",
    "    check(string)"
   ]
  },
  {
   "cell_type": "code",
   "execution_count": 12,
   "id": "241ac22d",
   "metadata": {},
   "outputs": [
    {
     "ename": "IndentationError",
     "evalue": "expected an indented block (2756825667.py, line 24)",
     "output_type": "error",
     "traceback": [
      "\u001b[1;36m  File \u001b[1;32m\"C:\\Users\\HP\\AppData\\Local\\Temp\\ipykernel_9624\\2756825667.py\"\u001b[1;36m, line \u001b[1;32m24\u001b[0m\n\u001b[1;33m    print(lis[i], end=\" \")\u001b[0m\n\u001b[1;37m    ^\u001b[0m\n\u001b[1;31mIndentationError\u001b[0m\u001b[1;31m:\u001b[0m expected an indented block\n"
     ]
    }
   ],
   "source": [
    "#27.This method deletes , Pop the element at the position mentioned in its arguments.\n",
    "\n",
    "\n",
    "lis = [2, 1, 3, 5, 4, 3, 8]\n",
    "  \n",
    "# using del to delete elements from pos. 2 to 5\n",
    "# deletes 3,5,4\n",
    "del lis[2 : 5]\n",
    "  \n",
    "# displaying list after deleting \n",
    "print (\"List elements after deleting are : \",end=\"\")\n",
    "for i in range(0, len(lis)):\n",
    "    print(lis[i], end=\" \")\n",
    "      \n",
    "print(\"\\r\")\n",
    "  \n",
    "# using pop() to delete element at pos 2\n",
    "# deletes 3\n",
    "lis.pop(2)\n",
    "  \n",
    "# displaying list after popping  \n",
    "print (\"List elements after popping are : \", end=\"\")\n",
    "for i in range(0, len(lis)):\n",
    "print(lis[i], end=\" \")\n",
    "\n"
   ]
  },
  {
   "cell_type": "code",
   "execution_count": null,
   "id": "ee056001",
   "metadata": {},
   "outputs": [],
   "source": []
  }
 ],
 "metadata": {
  "kernelspec": {
   "display_name": "Python 3 (ipykernel)",
   "language": "python",
   "name": "python3"
  },
  "language_info": {
   "codemirror_mode": {
    "name": "ipython",
    "version": 3
   },
   "file_extension": ".py",
   "mimetype": "text/x-python",
   "name": "python",
   "nbconvert_exporter": "python",
   "pygments_lexer": "ipython3",
   "version": "3.9.13"
  }
 },
 "nbformat": 4,
 "nbformat_minor": 5
}
