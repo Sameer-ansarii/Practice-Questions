{
 "cells": [
  {
   "cell_type": "markdown",
   "id": "92094431",
   "metadata": {},
   "source": [
    "### Tuple\n",
    "\n",
    "Tuple is same as like list the only difference is Tuple is immutable"
   ]
  },
  {
   "cell_type": "markdown",
   "id": "5090d95a",
   "metadata": {},
   "source": [
    "###### Q1 How we can form the tuple ?"
   ]
  },
  {
   "cell_type": "code",
   "execution_count": 1,
   "id": "c14dd29d",
   "metadata": {},
   "outputs": [
    {
     "name": "stdout",
     "output_type": "stream",
     "text": [
      " 1.By Round Bracket\n",
      "<class 'tuple'>\n",
      " 2.By passing list, string, set to tuple function\n",
      "(1, 2, 3, 2, 3, 'a', True)\n",
      "<class 'tuple'>\n",
      "('w', 'o', 'r', 'd')\n",
      "<class 'tuple'>\n",
      "(1, 34, 9, 7)\n",
      "<class 'tuple'>\n"
     ]
    }
   ],
   "source": [
    "print(\" 1.By Round Bracket\")\n",
    "t=()\n",
    "print(type(t))\n",
    "\n",
    "print(\" 2.By passing list, string, set to tuple function\")\n",
    "\n",
    "t1=tuple([1,2,3,2,3,\"a\",True])\n",
    "print(t1)\n",
    "print(type(t1))\n",
    "\n",
    "s='word'\n",
    "t=tuple(s)\n",
    "print(t)\n",
    "print(type(t))\n",
    "\n",
    "set={1,34,7,9}\n",
    "p=tuple(set)\n",
    "print(p)\n",
    "print(type(p))"
   ]
  },
  {
   "cell_type": "markdown",
   "id": "70f8ad7b",
   "metadata": {},
   "source": [
    "###### Q2 Write a statement to creat a tuple with single element"
   ]
  },
  {
   "cell_type": "code",
   "execution_count": 2,
   "id": "8dcaa04f",
   "metadata": {},
   "outputs": [
    {
     "name": "stdout",
     "output_type": "stream",
     "text": [
      "(4,)\n",
      "<class 'tuple'>\n"
     ]
    }
   ],
   "source": [
    "# We can form a tuple with single element by adding \",\" after an element.\n",
    "# Here we can write any other number or String.\n",
    "T1 = (4,)\n",
    "print(T1)\n",
    "print(type(T1))"
   ]
  },
  {
   "cell_type": "code",
   "execution_count": 3,
   "id": "cf016f01",
   "metadata": {},
   "outputs": [],
   "source": [
    "# Indexing and Slicing in tuple is same as String"
   ]
  },
  {
   "cell_type": "markdown",
   "id": "db442f47",
   "metadata": {},
   "source": [
    "###### Q3 Write a Python program to add an item to a tuple."
   ]
  },
  {
   "cell_type": "code",
   "execution_count": 4,
   "id": "49f923a3",
   "metadata": {},
   "outputs": [
    {
     "name": "stdout",
     "output_type": "stream",
     "text": [
      "(4, 6, 2, 8, 3, 1)\n",
      "(4, 6, 2, 8, 3, 1, 9)\n",
      "(4, 6, 2, 8, 3, 15, 20, 25, 4, 6, 2, 8, 3)\n",
      "(4, 6, 2, 8, 3, 15, 20, 25, 4, 6, 2, 8, 3, 30)\n"
     ]
    }
   ],
   "source": [
    "#create a tuple\n",
    "tuplex = (4, 6, 2, 8, 3, 1) \n",
    "print(tuplex)\n",
    "\n",
    "#tuples are immutable, so you can not add new elements\n",
    "#using merge of tuples with the + operator you can add an element and it will create a new tuple\n",
    "tuplex = tuplex + (9,)\n",
    "print(tuplex)\n",
    "\n",
    "#adding items in a specific index\n",
    "tuplex = tuplex[:5] + (15, 20, 25) + tuplex[:5]\n",
    "print(tuplex)\n",
    "\n",
    "#converting the tuple to list\n",
    "listx = list(tuplex) \n",
    "\n",
    "#use different ways to add items in list\n",
    "listx.append(30)\n",
    "tuplex = tuple(listx)\n",
    "print(tuplex)"
   ]
  },
  {
   "cell_type": "markdown",
   "id": "590eb8b1",
   "metadata": {},
   "source": [
    "###### Q4 Write a program to accept 'n' number of sports from user and store in a tuple T1"
   ]
  },
  {
   "cell_type": "code",
   "execution_count": 5,
   "id": "7ac26f86",
   "metadata": {},
   "outputs": [
    {
     "name": "stdout",
     "output_type": "stream",
     "text": [
      "How many Sports you want to enter:4\n",
      "Enter Sport Name:Kabadi\n",
      "Enter Sport Name:football\n",
      "Enter Sport Name:basketball\n",
      "Enter Sport Name:Cricket\n",
      "('Kabadi', 'football', 'basketball', 'Cricket')\n"
     ]
    }
   ],
   "source": [
    "T1=()\n",
    "n = int(input(\"How many Sports you want to enter:\"))\n",
    "i=0\n",
    "while i<n:\n",
    "    spnm = (input(\"Enter Sport Name:\"))\n",
    "    T1 = T1 + (spnm,)\n",
    "    i = i+1\n",
    "print(T1)"
   ]
  },
  {
   "cell_type": "markdown",
   "id": "a1b619fa",
   "metadata": {},
   "source": [
    "###### Q5 Write a Program to accept three numbers from user and insert it at the end of the tuple T1\n",
    "T1=(23,32,4,5,2,12,23,7,9,10,23)"
   ]
  },
  {
   "cell_type": "code",
   "execution_count": 6,
   "id": "5e01b887",
   "metadata": {},
   "outputs": [
    {
     "name": "stdout",
     "output_type": "stream",
     "text": [
      "Enter any number:3\n",
      "Enter any number:45\n",
      "Enter any number:66\n",
      "(23, 32, 4, 5, 2, 12, 23, 7, 9, 10, 23, 3, 45, 66)\n"
     ]
    }
   ],
   "source": [
    "T1=(23,32,4,5,2,12,23,7,9,10,23)\n",
    "t=()\n",
    "for i in range(3):\n",
    "    n1 = int(input(\"Enter any number:\"))\n",
    "    t = t + (n1,)\n",
    "T1 = T1 + t\n",
    "print(T1)\n"
   ]
  },
  {
   "cell_type": "markdown",
   "id": "80dd71f1",
   "metadata": {},
   "source": [
    "###### Q6 Write a program to swap the values of the given tuples"
   ]
  },
  {
   "cell_type": "code",
   "execution_count": 7,
   "id": "750fa7f7",
   "metadata": {},
   "outputs": [
    {
     "name": "stdout",
     "output_type": "stream",
     "text": [
      "T1=  (34, 56)\n",
      "T2=  ('A', 'B')\n"
     ]
    }
   ],
   "source": [
    "T1=(\"A\",\"B\")\n",
    "T2=(34,56)\n",
    "T1,T2=T2,T1\n",
    "print(\"T1= \",T1)\n",
    "print(\"T2= \",T2)"
   ]
  },
  {
   "cell_type": "markdown",
   "id": "0686caf9",
   "metadata": {},
   "source": [
    "###### Q7 Write a Program to print the frequency of number accepted from the user in given tuple: T1=(12,17,18,25,19,12,18,5)"
   ]
  },
  {
   "cell_type": "code",
   "execution_count": 8,
   "id": "d438c33b",
   "metadata": {},
   "outputs": [
    {
     "name": "stdout",
     "output_type": "stream",
     "text": [
      "Enter a number:12\n",
      "2\n"
     ]
    }
   ],
   "source": [
    "T1=(12,17,18,25,19,12,18,5)\n",
    "n1 = int(input(\"Enter a number:\"))\n",
    "print(T1.count(n1))"
   ]
  },
  {
   "cell_type": "markdown",
   "id": "fa4d7ef4",
   "metadata": {},
   "source": [
    "###### Q8 Write a Program to concatenate all the characters of given tuple. T1=('B','O','O','K')"
   ]
  },
  {
   "cell_type": "code",
   "execution_count": 9,
   "id": "059459ac",
   "metadata": {},
   "outputs": [
    {
     "name": "stdout",
     "output_type": "stream",
     "text": [
      "BOOK\n"
     ]
    }
   ],
   "source": [
    "#Method 1: using loop\n",
    "T1=('B','O','O','K')\n",
    "st=''\n",
    "for i in T1:\n",
    "    st+=i\n",
    "print(st)\n"
   ]
  },
  {
   "cell_type": "code",
   "execution_count": 10,
   "id": "4b392e26",
   "metadata": {},
   "outputs": [
    {
     "data": {
      "text/plain": [
       "'BOOK'"
      ]
     },
     "execution_count": 10,
     "metadata": {},
     "output_type": "execute_result"
    }
   ],
   "source": [
    "#Method 2:using join function\n",
    "T1=('B','O','O','K')\n",
    "st=''.join(T1)\n",
    "st\n"
   ]
  },
  {
   "cell_type": "markdown",
   "id": "6a77898e",
   "metadata": {},
   "source": [
    "###### Q9 Write a Program to remove a number (accepted from the user) from the given tuple: T1=(12, 15, 18, 21, 24, 27, 30)"
   ]
  },
  {
   "cell_type": "code",
   "execution_count": 11,
   "id": "3dea0620",
   "metadata": {},
   "outputs": [
    {
     "name": "stdout",
     "output_type": "stream",
     "text": [
      "Enter a number to be removed:34\n",
      "Element not found\n"
     ]
    }
   ],
   "source": [
    "T1=(12, 15, 18, 21, 24, 27, 30)\n",
    "ele=int(input(\"Enter a number to be removed:\"))\n",
    "if ele in T1:\n",
    "    L= list(T1)\n",
    "    L.remove(ele)\n",
    "    T1=tuple(L)\n",
    "    print(T1)\n",
    "else:\n",
    "    print(\"Element not found\")"
   ]
  },
  {
   "cell_type": "markdown",
   "id": "1585b369",
   "metadata": {},
   "source": [
    "###### Q10 Write a program to store the details(Roll No., Name, Section) of three students in tuple, accept all data from user"
   ]
  },
  {
   "cell_type": "code",
   "execution_count": 13,
   "id": "75983a82",
   "metadata": {},
   "outputs": [
    {
     "name": "stdout",
     "output_type": "stream",
     "text": [
      "Enter Roll No.of student:3\n",
      "Enter Name of Student:Shantu\n",
      "Enter Section of Student:A\n",
      "Enter Roll No.of student:2\n",
      "Enter Name of Student:Chaitu\n",
      "Enter Section of Student:B\n",
      "Enter Roll No.of student:4\n",
      "Enter Name of Student:Parth\n",
      "Enter Section of Student:f\n",
      "((3, 'Shantu', 'A'), (2, 'Chaitu', 'B'), (4, 'Parth', 'f'))\n"
     ]
    }
   ],
   "source": [
    "Det=()\n",
    "tem=()\n",
    "for i in range(3):\n",
    "    a=int(input(\"Enter Roll No.of student:\"))\n",
    "    b=input(\"Enter Name of Student:\")\n",
    "    c=input(\"Enter Section of Student:\")\n",
    "    tem=(a,b,c)\n",
    "    Det=Det + (tem,)\n",
    "print(Det)"
   ]
  },
  {
   "cell_type": "markdown",
   "id": "a0e054ef",
   "metadata": {},
   "source": [
    "###### Q11 Write a program to accept roll no form user and display it's detail from given tuple: Tup=((1,'Amita','B'),(2,'Sunita','C'),(3,'Daya','A'))"
   ]
  },
  {
   "cell_type": "code",
   "execution_count": 14,
   "id": "625fb599",
   "metadata": {},
   "outputs": [
    {
     "name": "stdout",
     "output_type": "stream",
     "text": [
      "Enter a number:4\n",
      "Record not found\n"
     ]
    }
   ],
   "source": [
    "Tup=((1,'Amita','B'),(2,'Sunita','C'),(3,'Daya','A'))\n",
    "Rn=int(input(\"Enter a number:\"))\n",
    "k=0\n",
    "for i in range(3):\n",
    "    if Rn==Tup[i][0]:\n",
    "        print(Tup[i])\n",
    "        k=1\n",
    "        break\n",
    "if k==0:\n",
    "    print(\"Record not found\")\n"
   ]
  },
  {
   "cell_type": "markdown",
   "id": "ed7fb5d2",
   "metadata": {},
   "source": [
    "###### Q12 Write Program to accept five numbers from user and store these number in tuple. Display the following from Tuple  \n",
    "1. Largest number\n",
    "2. Smallest number\n",
    "3. Sum of all numbers\n",
    "4. Average of all numbers"
   ]
  },
  {
   "cell_type": "code",
   "execution_count": 15,
   "id": "e5dcb36c",
   "metadata": {},
   "outputs": [
    {
     "name": "stdout",
     "output_type": "stream",
     "text": [
      "Enter a number:5\n",
      "Enter a number:7\n",
      "Enter a number:8\n",
      "Enter a number:8\n",
      "Enter a number:6\n",
      "\n",
      "\n",
      "Largest number: 8\n",
      "Smallest number: 5\n",
      "Sum of all numbers: 34\n",
      "Average of all numbers: 6.8\n"
     ]
    }
   ],
   "source": [
    "t=()\n",
    "for i in range(5):\n",
    "    n1 = int(input(\"Enter a number:\"))\n",
    "    t = t + (n1,)\n",
    "print('\\n')    \n",
    "print(\"Largest number:\",max(t))\n",
    "print(\"Smallest number:\",min(t))\n",
    "print(\"Sum of all numbers:\",sum(t))\n",
    "print(\"Average of all numbers:\",sum(t)/5)"
   ]
  },
  {
   "cell_type": "markdown",
   "id": "c80f4094",
   "metadata": {},
   "source": [
    "###### Q13 Write a program to print secound largest element in a given Tuple: T1=(21,45,87,45,67,43,23,12)\n"
   ]
  },
  {
   "cell_type": "code",
   "execution_count": 16,
   "id": "d66c6c3a",
   "metadata": {},
   "outputs": [
    {
     "data": {
      "text/plain": [
       "67"
      ]
     },
     "execution_count": 16,
     "metadata": {},
     "output_type": "execute_result"
    }
   ],
   "source": [
    "T1=(21,45,87,45,67,43,23,12)\n",
    "# Firstly we have to sort the values\n",
    "T1=sorted(T1)\n",
    "T1[-2]"
   ]
  },
  {
   "cell_type": "markdown",
   "id": "4545784b",
   "metadata": {},
   "source": [
    "###### Q14 Write a program to display the sum of all even numbers and odd numbers seprately from given tuple:T1=(24,45,87,46,67,43,23,12)"
   ]
  },
  {
   "cell_type": "code",
   "execution_count": 17,
   "id": "9dc41bba",
   "metadata": {},
   "outputs": [
    {
     "name": "stdout",
     "output_type": "stream",
     "text": [
      "sum of even numbers are: 82\n",
      "sum of odd numbers are: 265\n"
     ]
    }
   ],
   "source": [
    "T1=(24,45,87,46,67,43,23,12)\n",
    "se=0\n",
    "so=0\n",
    "for i in T1:\n",
    "    if i%2==0:\n",
    "        se+=i\n",
    "    else:\n",
    "        so+=i\n",
    "print('sum of even numbers are:',se)\n",
    "print('sum of odd numbers are:',so)"
   ]
  },
  {
   "cell_type": "markdown",
   "id": "850195cc",
   "metadata": {},
   "source": [
    "###### Q15 Write a Program to accept a number from the user and store first 10 numbers in a tuple"
   ]
  },
  {
   "cell_type": "code",
   "execution_count": 18,
   "id": "791b59d3",
   "metadata": {},
   "outputs": [
    {
     "name": "stdout",
     "output_type": "stream",
     "text": [
      "Enter a number:6\n",
      "Tuple=  (6, 12, 18, 24, 30, 36, 42, 48, 54, 60)\n"
     ]
    }
   ],
   "source": [
    "n1=int(input(\"Enter a number:\"))\n",
    "t=()\n",
    "for i in range(1,11):\n",
    "    t=t + (n1*i,)\n",
    "print(\"Tuple= \",t)"
   ]
  },
  {
   "cell_type": "markdown",
   "id": "c0af7a9e",
   "metadata": {},
   "source": [
    "###### Q16 Write program to display the sum of all the numbers in a given tuple: T1=(1,2,3,'A','B',4,'Sun')"
   ]
  },
  {
   "cell_type": "code",
   "execution_count": 19,
   "id": "f6366a9f",
   "metadata": {},
   "outputs": [
    {
     "name": "stdout",
     "output_type": "stream",
     "text": [
      "Sum =  10\n"
     ]
    }
   ],
   "source": [
    "T1=(1,2,3,'A','B',4,'Sun')\n",
    "s=0\n",
    "for i in T1:\n",
    "    if str(i).isdigit():\n",
    "        s+=i\n",
    "print(\"Sum = \", s)"
   ]
  },
  {
   "cell_type": "markdown",
   "id": "36b2990b",
   "metadata": {},
   "source": [
    "###### Q17 Write a program to accept a number  from user and creat a tuple containing all factors of number"
   ]
  },
  {
   "cell_type": "code",
   "execution_count": 20,
   "id": "c7213776",
   "metadata": {},
   "outputs": [
    {
     "name": "stdout",
     "output_type": "stream",
     "text": [
      "Enter a number:7\n",
      "(1, 7)\n"
     ]
    }
   ],
   "source": [
    "n1=int(input(\"Enter a number:\"))\n",
    "t=()\n",
    "for i in range(1,n1+1):\n",
    "    if n1%i==0:\n",
    "        t+=(i,)\n",
    "print(t)"
   ]
  },
  {
   "cell_type": "markdown",
   "id": "69391205",
   "metadata": {},
   "source": [
    "###### Q18 Write a program to arrange all the subtuple in increasing order and store in another tuple"
   ]
  },
  {
   "cell_type": "code",
   "execution_count": 21,
   "id": "29717389",
   "metadata": {},
   "outputs": [
    {
     "name": "stdout",
     "output_type": "stream",
     "text": [
      "((1, 2, 3), (23, 45), (34, 67, 98))\n"
     ]
    }
   ],
   "source": [
    "T1=((1,2,3),(45,23),(98,34,67))\n",
    "T2=()\n",
    "for i in T1:\n",
    "    T2=T2+(tuple(sorted(i)),)\n",
    "print(T2)\n",
    "    "
   ]
  },
  {
   "cell_type": "markdown",
   "id": "418bba20",
   "metadata": {},
   "source": [
    "###### Q19 Write a program to find the Union(Common elements Ones) of given tuples:\n",
    "T1=(1,2,3,4,5,6)\n",
    "T2=(3,5,7,9,11)\n",
    "Expected output:1,2,3,4,5,6,7,9,11"
   ]
  },
  {
   "cell_type": "code",
   "execution_count": 22,
   "id": "87bcb294",
   "metadata": {},
   "outputs": [
    {
     "name": "stdout",
     "output_type": "stream",
     "text": [
      "(1, 2, 3, 4, 5, 6, 7, 9, 11)\n"
     ]
    }
   ],
   "source": [
    "T1=(1,2,3,4,5,6)\n",
    "T2=(3,5,7,9,11)\n",
    "for i in T2:\n",
    "    if i not in T1:\n",
    "        T1=T1+(i,)\n",
    "print(T1)"
   ]
  },
  {
   "cell_type": "markdown",
   "id": "fccc4309",
   "metadata": {},
   "source": [
    "###### Q20 Write a program to store the sum of all sub tuples of given tuple into a new tuple. for example\n",
    "#Original Tuple:T1=((1,2,3),(45,23),(98,34,67),(34,56,78,9))\n",
    " #T2= (6,68,199,177)"
   ]
  },
  {
   "cell_type": "code",
   "execution_count": 23,
   "id": "4a93b4e1",
   "metadata": {},
   "outputs": [
    {
     "name": "stdout",
     "output_type": "stream",
     "text": [
      "(6, 68, 199, 177)\n"
     ]
    }
   ],
   "source": [
    "T1=((1,2,3),(45,23),(98,34,67),(34,56,78,9))\n",
    "T2=()\n",
    "for i in T1:\n",
    "    T2 = T2 +(sum(i),)\n",
    "print(T2)"
   ]
  },
  {
   "cell_type": "markdown",
   "id": "b74c6d59",
   "metadata": {},
   "source": [
    "###### Q21 Write a program to display names starting from vowel from the given tuple\n",
    "T1=(\"Amit\",\"Ram\",\"Esha\",\"Harry\")"
   ]
  },
  {
   "cell_type": "code",
   "execution_count": 24,
   "id": "6e006077",
   "metadata": {},
   "outputs": [
    {
     "name": "stdout",
     "output_type": "stream",
     "text": [
      "Amit\n",
      "Esha\n"
     ]
    }
   ],
   "source": [
    "T1=(\"Amit\",\"Ram\",\"Esha\",\"Harry\")\n",
    "for i in T1:\n",
    "    if i[0] in (\"aeiouAEIOU\"):\n",
    "        print(i)"
   ]
  },
  {
   "cell_type": "markdown",
   "id": "2a22b080",
   "metadata": {},
   "source": [
    "###### Q22 Write a Python program to replace the last value of tuples in a list."
   ]
  },
  {
   "cell_type": "code",
   "execution_count": 26,
   "id": "92a8ffcf",
   "metadata": {},
   "outputs": [
    {
     "name": "stdout",
     "output_type": "stream",
     "text": [
      "[(10, 20, 100), (40, 50, 100), (70, 80, 100)]\n"
     ]
    }
   ],
   "source": [
    "l = [(10, 20, 40), (40, 50, 60), (70, 80, 90)]\n",
    "print([t[:-1] + (100,) for t in l])\n",
    "\n"
   ]
  },
  {
   "cell_type": "markdown",
   "id": "b706e0a0",
   "metadata": {},
   "source": [
    "###### Q23 Write a Python program to sort a tuple by its float element from higher to lower"
   ]
  },
  {
   "cell_type": "code",
   "execution_count": 28,
   "id": "f6b0cb25",
   "metadata": {},
   "outputs": [
    {
     "name": "stdout",
     "output_type": "stream",
     "text": [
      "[('item3', '24.5'), ('item2', '15.10'), ('item1', '12.20')]\n"
     ]
    }
   ],
   "source": [
    "price = [('item1', '12.20'), ('item2', '15.10'), ('item3', '24.5')]\n",
    "print( sorted(price, key=lambda x: float(x[1]), reverse=True))\n"
   ]
  },
  {
   "cell_type": "markdown",
   "id": "e614d7e4",
   "metadata": {},
   "source": [
    "###### Q24 Write a Python program to count the elements in a list until an element is a tuple."
   ]
  },
  {
   "cell_type": "code",
   "execution_count": 29,
   "id": "bf1f329b",
   "metadata": {},
   "outputs": [
    {
     "name": "stdout",
     "output_type": "stream",
     "text": [
      "3\n"
     ]
    }
   ],
   "source": [
    "num = [10,20,30,(10,20),40]\n",
    "ctr = 0\n",
    "for n in num:\n",
    "    if isinstance(n, tuple):\n",
    "        break\n",
    "    ctr += 1\n",
    "print(ctr)"
   ]
  },
  {
   "cell_type": "markdown",
   "id": "9e03ef95",
   "metadata": {},
   "source": [
    "###### Q25 Write a Python program to calculate the product, multiplying all the numbers in a given tuple.\n",
    "Sample output:Original Tuple:\n",
    "(4, 3, 2, 2, -1, 18)\n",
    "Product - multiplying all the numbers of the said tuple: -864\n",
    "\n",
    "Original Tuple:\n",
    "(2, 4, 8, 8, 3, 2, 9)\n",
    "Product - multiplying all the numbers of the said tuple: 27648"
   ]
  },
  {
   "cell_type": "code",
   "execution_count": 30,
   "id": "d20bbaff",
   "metadata": {},
   "outputs": [
    {
     "name": "stdout",
     "output_type": "stream",
     "text": [
      "Original Tuple: \n",
      "(4, 3, 2, 2, -1, 18)\n",
      "Product - multiplying all the numbers of the said tuple: -864\n",
      "\n",
      "Original Tuple: \n",
      "(2, 4, 8, 8, 3, 2, 9)\n",
      "Product - multiplying all the numbers of the said tuple: 27648\n"
     ]
    }
   ],
   "source": [
    "def mutiple_tuple(nums):\n",
    "    temp = list(nums)\n",
    "    product = 1 \n",
    "    for x in temp:\n",
    "        product *= x\n",
    "    return product\n",
    "\n",
    "nums = (4, 3, 2, 2, -1, 18)\n",
    "print (\"Original Tuple: \")\n",
    "print(nums)\n",
    "print(\"Product - multiplying all the numbers of the said tuple:\",mutiple_tuple(nums))\n",
    "\n",
    "nums = (2, 4, 8, 8, 3, 2, 9)\n",
    "print (\"\\nOriginal Tuple: \")\n",
    "print(nums)\n",
    "print(\"Product - multiplying all the numbers of the said tuple:\",mutiple_tuple(nums))"
   ]
  },
  {
   "cell_type": "markdown",
   "id": "4a1c89a5",
   "metadata": {},
   "source": [
    "###### Q26  Write a Python program to convert a given tuple of positive integers into an integer. \n",
    "Original tuple:\n",
    "(1, 2, 3)\n",
    "\n",
    "Convert the said tuple of positive integers into an integer:\n",
    "123\n",
    "\n",
    "Original tuple:\n",
    "(10, 20, 40, 5, 70)\n",
    "\n",
    "Convert the said tuple of positive integers into an integer:\n",
    "102040570"
   ]
  },
  {
   "cell_type": "code",
   "execution_count": 31,
   "id": "cfd87ec9",
   "metadata": {},
   "outputs": [
    {
     "name": "stdout",
     "output_type": "stream",
     "text": [
      "Original tuple: \n",
      "(1, 2, 3)\n",
      "Convert the said tuple of positive integers into an integer:\n",
      "123\n",
      "\n",
      "Original tuple: \n",
      "(10, 20, 40, 5, 70)\n",
      "Convert the said tuple of positive integers into an integer:\n",
      "102040570\n"
     ]
    }
   ],
   "source": [
    "def tuple_to_int(nums):\n",
    "    result = int(''.join(map(str,nums)))\n",
    "    return result\n",
    "\n",
    "nums = (1,2,3)\n",
    "print(\"Original tuple: \") \n",
    "print(nums)\n",
    "print(\"Convert the said tuple of positive integers into an integer:\")\n",
    "print(tuple_to_int(nums))\n",
    "\n",
    "nums = (10,20,40,5,70)\n",
    "print(\"\\nOriginal tuple: \") \n",
    "print(nums)\n",
    "print(\"Convert the said tuple of positive integers into an integer:\")\n",
    "print(tuple_to_int(nums))"
   ]
  },
  {
   "cell_type": "markdown",
   "id": "269c5a06",
   "metadata": {},
   "source": [
    "###### Q27. Write a Python program to compute the element-wise sum of given tuples. \n",
    "Sample output:\n",
    "\n",
    "Original lists:\n",
    "(1, 2, 3, 4)\n",
    "(3, 5, 2, 1)\n",
    "(2, 2, 3, 1)\n",
    "\n",
    "Element-wise sum of the said tuples:\n",
    "(6, 9, 8, 6)"
   ]
  },
  {
   "cell_type": "code",
   "execution_count": 32,
   "id": "f68fd66e",
   "metadata": {},
   "outputs": [
    {
     "name": "stdout",
     "output_type": "stream",
     "text": [
      "Original lists:\n",
      "(1, 2, 3, 4)\n",
      "(3, 5, 2, 1)\n",
      "(2, 2, 3, 1)\n",
      "\n",
      "Element-wise sum of the said tuples:\n",
      "(6, 9, 8, 6)\n"
     ]
    }
   ],
   "source": [
    "x = (1,2,3,4)\n",
    "y = (3,5,2,1)\n",
    "z = (2,2,3,1)\n",
    "print(\"Original lists:\")\n",
    "print(x)\n",
    "print(y)\n",
    "print(z)\n",
    "print(\"\\nElement-wise sum of the said tuples:\")\n",
    "result = tuple(map(sum, zip(x, y, z)))\n",
    "print(result)"
   ]
  },
  {
   "cell_type": "markdown",
   "id": "08c3e216",
   "metadata": {},
   "source": [
    "###### Q28. Check if all items in the tuple are the same"
   ]
  },
  {
   "cell_type": "code",
   "execution_count": 1,
   "id": "cde08a95",
   "metadata": {},
   "outputs": [
    {
     "name": "stdout",
     "output_type": "stream",
     "text": [
      "True\n",
      "False\n"
     ]
    }
   ],
   "source": [
    "def check(t):\n",
    "    return all(i == t[0] for i in t)\n",
    "\n",
    "tuple1 = (45, 45, 45, 45)\n",
    "print(check(tuple1))\n",
    "\n",
    "tuple2 = (23,45,6,67)\n",
    "print(check(tuple2))"
   ]
  },
  {
   "cell_type": "markdown",
   "id": "2e0219f2",
   "metadata": {},
   "source": [
    "###### Q29 Modify the tuple Given is a nested tuple. Write a program to modify the first item (22) of a list inside a following tuple to 222"
   ]
  },
  {
   "cell_type": "code",
   "execution_count": 2,
   "id": "8e17dda9",
   "metadata": {},
   "outputs": [
    {
     "name": "stdout",
     "output_type": "stream",
     "text": [
      "(11, [222, 33], 44, 55)\n"
     ]
    }
   ],
   "source": [
    "tuple1 = (11, [22, 33], 44, 55)\n",
    "tuple1[1][0] = 222\n",
    "print(tuple1)"
   ]
  },
  {
   "cell_type": "code",
   "execution_count": 2,
   "id": "42652ddf",
   "metadata": {},
   "outputs": [
    {
     "name": "stdout",
     "output_type": "stream",
     "text": [
      "its even\n"
     ]
    }
   ],
   "source": [
    "a=34\n",
    "if a%2==0:\n",
    "    print(\"its even\")\n",
    "else:\n",
    "    print(\"its not\")"
   ]
  },
  {
   "cell_type": "markdown",
   "id": "4a5881cf",
   "metadata": {},
   "source": [
    "###### Q30 "
   ]
  }
 ],
 "metadata": {
  "kernelspec": {
   "display_name": "Python 3 (ipykernel)",
   "language": "python",
   "name": "python3"
  },
  "language_info": {
   "codemirror_mode": {
    "name": "ipython",
    "version": 3
   },
   "file_extension": ".py",
   "mimetype": "text/x-python",
   "name": "python",
   "nbconvert_exporter": "python",
   "pygments_lexer": "ipython3",
   "version": "3.9.13"
  }
 },
 "nbformat": 4,
 "nbformat_minor": 5
}
