{
 "cells": [
  {
   "cell_type": "markdown",
   "id": "e29ac2c8",
   "metadata": {},
   "source": [
    "1. Write a Python script to sort (ascending and descending) a dictionary by value\n",
    "dict = {'A':100, 'B':200, 'C':300}"
   ]
  },
  {
   "cell_type": "code",
   "execution_count": 1,
   "id": "27e489e1",
   "metadata": {},
   "outputs": [],
   "source": [
    "dict = {'A':100, 'B':200, 'C':300}"
   ]
  },
  {
   "cell_type": "code",
   "execution_count": 29,
   "id": "310a4680",
   "metadata": {},
   "outputs": [
    {
     "name": "stdout",
     "output_type": "stream",
     "text": [
      "Ascending order [100, 200, 300]\n"
     ]
    }
   ],
   "source": [
    "sorted_dict = sorted(dict.values())\n",
    "print(\"Ascending order\", sorted_dict)"
   ]
  },
  {
   "cell_type": "code",
   "execution_count": 28,
   "id": "82001b02",
   "metadata": {},
   "outputs": [
    {
     "name": "stdout",
     "output_type": "stream",
     "text": [
      "Descending order  [300, 200, 100]\n"
     ]
    }
   ],
   "source": [
    "sorted_dict = sorted(dict.values(), reverse = True)\n",
    "print(\"Descending order \", sorted_dict)"
   ]
  },
  {
   "cell_type": "markdown",
   "id": "2eb86b90",
   "metadata": {},
   "source": [
    " 2. Write a Python script to add a key to a dictionary.\n"
   ]
  },
  {
   "cell_type": "code",
   "execution_count": 31,
   "id": "5fc77d4e",
   "metadata": {},
   "outputs": [],
   "source": [
    "Sample_dict = {1:2,2:3,3:4,4:5}"
   ]
  },
  {
   "cell_type": "code",
   "execution_count": 34,
   "id": "f6f9ac97",
   "metadata": {},
   "outputs": [
    {
     "data": {
      "text/plain": [
       "{1: 2, 2: 3, 3: 4, 4: 5, 5: 6}"
      ]
     },
     "execution_count": 34,
     "metadata": {},
     "output_type": "execute_result"
    }
   ],
   "source": [
    "Sample_dict[5] = (6)\n",
    "Sample_dict"
   ]
  },
  {
   "cell_type": "markdown",
   "id": "eb1729aa",
   "metadata": {},
   "source": [
    "3. Write a Python script to concatenate the following dictionaries to create a new one. \n",
    "Sample Dictionary :\n",
    "dic1={1:10, 2:20}\n",
    "dic2={3:30, 4:40}\n",
    "dic3={5:50,6:60}\n",
    "Expected Result : {1: 10, 2: 20, 3: 30, 4: 40, 5: 50, 6: 60}"
   ]
  },
  {
   "cell_type": "code",
   "execution_count": 40,
   "id": "7278d326",
   "metadata": {},
   "outputs": [
    {
     "data": {
      "text/plain": [
       "{1: 10, 2: 20, 3: 30, 4: 40}"
      ]
     },
     "execution_count": 40,
     "metadata": {},
     "output_type": "execute_result"
    }
   ],
   "source": [
    "dic1={1:10, 2:20}\n",
    "dic2={3:30, 4:40}\n",
    "dic3={5:50, 6:60}\n",
    "dic1.update(dic2)\n",
    "dic1"
   ]
  },
  {
   "cell_type": "code",
   "execution_count": 47,
   "id": "26fd545c",
   "metadata": {},
   "outputs": [
    {
     "data": {
      "text/plain": [
       "('expected result ', {1: 10, 2: 20, 3: 30, 4: 40, 5: 50, 6: 60})"
      ]
     },
     "execution_count": 47,
     "metadata": {},
     "output_type": "execute_result"
    }
   ],
   "source": [
    "dic1.update(dic3)\n",
    "\"expected result \", dic1"
   ]
  },
  {
   "cell_type": "code",
   "execution_count": 51,
   "id": "2904afff",
   "metadata": {},
   "outputs": [
    {
     "data": {
      "text/plain": [
       "{1: 10, 2: 20, 3: 30, 4: 40, 5: 50, 6: 60}"
      ]
     },
     "execution_count": 51,
     "metadata": {},
     "output_type": "execute_result"
    }
   ],
   "source": [
    "# Another way\n",
    "dic4 = {}\n",
    "for d in (dic1, dic2, dic3):\n",
    "    dic4.update(d)\n",
    "dic4"
   ]
  },
  {
   "cell_type": "markdown",
   "id": "09b8ce6f",
   "metadata": {},
   "source": [
    "4 Write a Python script to check whether a given key already exists in a dictionary."
   ]
  },
  {
   "cell_type": "code",
   "execution_count": 2,
   "id": "60000963",
   "metadata": {},
   "outputs": [
    {
     "name": "stdout",
     "output_type": "stream",
     "text": [
      "Key is present in the dictionary\n",
      "Key is not present in the dictionary\n"
     ]
    }
   ],
   "source": [
    "d = {1: 10, 2: 20, 3: 30, 4: 40, 5: 50, 6: 60}\n",
    "def is_key_present(x):\n",
    "  if x in d:\n",
    "      print('Key is present in the dictionary')\n",
    "  else:\n",
    "      print('Key is not present in the dictionary')\n",
    "is_key_present(5)\n",
    "is_key_present(7)"
   ]
  },
  {
   "cell_type": "markdown",
   "id": "1c53925c",
   "metadata": {},
   "source": [
    "5 Write a Python script to print a dictionary where the keys are numbers between 1 and 15 (both included) and the values are the square of the keys.\n",
    "Sample Dictionary\n",
    "{1: 1, 2: 4, 3: 9, 4: 16, 5: 25, 6: 36, 7: 49, 8: 64, 9: 81, 10: 100, 11: 121, 12: 144, 13: 169, 14: 196, 15: 225}"
   ]
  },
  {
   "cell_type": "code",
   "execution_count": 72,
   "id": "d2a45ec5",
   "metadata": {},
   "outputs": [
    {
     "name": "stdout",
     "output_type": "stream",
     "text": [
      "1 1 2 4 3 9 4 16 5 25 6 36 7 49 8 64 9 81 10 100 11 121 12 144 13 169 14 196 15 225 "
     ]
    }
   ],
   "source": [
    "dic1 = {}\n",
    "for i in range(0, 16):\n",
    "    if i>0:\n",
    "        print(i, i*i, end = \" \")"
   ]
  },
  {
   "cell_type": "markdown",
   "id": "d92e736e",
   "metadata": {},
   "source": [
    "6. Write a Python program to iterate over dictionaries using for loops."
   ]
  },
  {
   "cell_type": "code",
   "execution_count": 73,
   "id": "3debf09b",
   "metadata": {},
   "outputs": [],
   "source": [
    "d={1:100, 2:200, 3:300, 4:400}"
   ]
  },
  {
   "cell_type": "markdown",
   "id": "40de44b8",
   "metadata": {},
   "source": [
    "for man, weight in d.items():\n",
    "    print(man, \"is\", weight)"
   ]
  },
  {
   "cell_type": "markdown",
   "id": "68477154",
   "metadata": {},
   "source": [
    "7.  Write a Python program to get the maximum and minimum values of a dictionary."
   ]
  },
  {
   "cell_type": "code",
   "execution_count": 89,
   "id": "0b4d32a4",
   "metadata": {},
   "outputs": [
    {
     "data": {
      "text/plain": [
       "dict_values([100, 200, 300, 400])"
      ]
     },
     "execution_count": 89,
     "metadata": {},
     "output_type": "execute_result"
    }
   ],
   "source": [
    "d.values()"
   ]
  },
  {
   "cell_type": "code",
   "execution_count": 97,
   "id": "93091315",
   "metadata": {},
   "outputs": [
    {
     "data": {
      "text/plain": [
       "100"
      ]
     },
     "execution_count": 97,
     "metadata": {},
     "output_type": "execute_result"
    }
   ],
   "source": [
    "key_min=min(d.values())\n",
    "key_min"
   ]
  },
  {
   "cell_type": "code",
   "execution_count": 99,
   "id": "d46cbb18",
   "metadata": {},
   "outputs": [
    {
     "data": {
      "text/plain": [
       "400"
      ]
     },
     "execution_count": 99,
     "metadata": {},
     "output_type": "execute_result"
    }
   ],
   "source": [
    "key_max=max(d.values())\n",
    "key_max"
   ]
  },
  {
   "cell_type": "code",
   "execution_count": 100,
   "id": "f657a357",
   "metadata": {},
   "outputs": [
    {
     "name": "stdout",
     "output_type": "stream",
     "text": [
      "100 400\n"
     ]
    }
   ],
   "source": [
    "print(key_min, key_max)"
   ]
  },
  {
   "cell_type": "raw",
   "id": "11054781",
   "metadata": {},
   "source": [
    "#DOUBT!!!\n",
    "\n",
    "\n",
    "8. Write a Python program to combine two dictionary by adding values for common keys.\n",
    "d1 = {'a': 100, 'b': 200, 'c':300}\n",
    "d2 = {'a': 300, 'b': 200, 'd':400}\n",
    "Sample output: Counter({'a': 400, 'b': 400, 'd': 400, 'c': 300})"
   ]
  },
  {
   "cell_type": "code",
   "execution_count": 108,
   "id": "fea3ceee",
   "metadata": {},
   "outputs": [],
   "source": [
    "d1 = {'a': 100, 'b': 200, 'c':300}\n",
    "d2 = {'a': 300, 'b': 200, 'd':400}"
   ]
  },
  {
   "cell_type": "code",
   "execution_count": 107,
   "id": "1ee60ff8",
   "metadata": {},
   "outputs": [
    {
     "data": {
      "text/plain": [
       "Counter({'a': 400, 'b': 400, 'c': 300, 'd': 400})"
      ]
     },
     "execution_count": 107,
     "metadata": {},
     "output_type": "execute_result"
    }
   ],
   "source": [
    "from collections import Counter\n",
    "d1 = {'a': 100, 'b': 200, 'c':300}\n",
    "d2 = {'a': 300, 'b': 200, 'd':400}\n",
    "d = Counter(d1) + Counter(d2)\n",
    "d"
   ]
  },
  {
   "cell_type": "markdown",
   "id": "b6c6a09a",
   "metadata": {},
   "source": [
    "9. Write a Python script to generate and print a dictionary that contains a number (between 1 and n) in the form (x, x*x).\n",
    "Sample Dictionary ( n = 5) :\n",
    "Expected Output : {1: 1, 2: 4, 3: 9, 4: 16, 5: 25}"
   ]
  },
  {
   "cell_type": "code",
   "execution_count": 113,
   "id": "6f5df832",
   "metadata": {
    "scrolled": true
   },
   "outputs": [
    {
     "ename": "TypeError",
     "evalue": "'dict' object is not callable",
     "output_type": "error",
     "traceback": [
      "\u001b[1;31m---------------------------------------------------------------------------\u001b[0m",
      "\u001b[1;31mTypeError\u001b[0m                                 Traceback (most recent call last)",
      "\u001b[1;32m~\\AppData\\Local\\Temp\\ipykernel_4608\\1959798345.py\u001b[0m in \u001b[0;36m<module>\u001b[1;34m\u001b[0m\n\u001b[0;32m      1\u001b[0m \u001b[0mn\u001b[0m\u001b[1;33m=\u001b[0m\u001b[1;36m5\u001b[0m\u001b[1;33m\u001b[0m\u001b[1;33m\u001b[0m\u001b[0m\n\u001b[0;32m      2\u001b[0m \u001b[1;32mfor\u001b[0m \u001b[0mi\u001b[0m \u001b[1;32min\u001b[0m \u001b[0mrange\u001b[0m\u001b[1;33m(\u001b[0m\u001b[1;36m1\u001b[0m\u001b[1;33m,\u001b[0m\u001b[1;36m6\u001b[0m\u001b[1;33m)\u001b[0m\u001b[1;33m:\u001b[0m\u001b[1;33m\u001b[0m\u001b[1;33m\u001b[0m\u001b[0m\n\u001b[1;32m----> 3\u001b[1;33m     \u001b[0mprint\u001b[0m\u001b[1;33m(\u001b[0m\u001b[0md\u001b[0m\u001b[1;33m(\u001b[0m\u001b[0mn\u001b[0m\u001b[1;33m,\u001b[0m \u001b[0mn\u001b[0m\u001b[1;33m**\u001b[0m\u001b[1;36m2\u001b[0m\u001b[1;33m)\u001b[0m\u001b[1;33m)\u001b[0m\u001b[1;33m\u001b[0m\u001b[1;33m\u001b[0m\u001b[0m\n\u001b[0m",
      "\u001b[1;31mTypeError\u001b[0m: 'dict' object is not callable"
     ]
    }
   ],
   "source": [
    "n=5\n",
    "for i in range(1,6):\n",
    "    print(d(n, n**2))"
   ]
  },
  {
   "cell_type": "code",
   "execution_count": 117,
   "id": "f84a2b26",
   "metadata": {},
   "outputs": [
    {
     "name": "stdout",
     "output_type": "stream",
     "text": [
      "enter a number 15\n",
      "{1: 1, 2: 4, 3: 9, 4: 16, 5: 25, 6: 36, 7: 49, 8: 64, 9: 81, 10: 100, 11: 121, 12: 144, 13: 169, 14: 196, 15: 225}\n"
     ]
    }
   ],
   "source": [
    "n=int(input(\"enter a number \"))\n",
    "d = {}\n",
    "\n",
    "for i in range(1, n+1):\n",
    "    d[i]=i*i\n",
    "print(d)"
   ]
  },
  {
   "cell_type": "markdown",
   "id": "1cce7217",
   "metadata": {},
   "source": [
    "10. Write a Python script to merge two Python dictionaries."
   ]
  },
  {
   "cell_type": "code",
   "execution_count": 119,
   "id": "b03cfb89",
   "metadata": {},
   "outputs": [],
   "source": [
    "d1={1:10, 2:20, 3:30, 4:40}\n",
    "d2={\"a\": 100, 'b': 200, 'c': 300}"
   ]
  },
  {
   "cell_type": "code",
   "execution_count": 121,
   "id": "91ae514f",
   "metadata": {},
   "outputs": [
    {
     "name": "stdout",
     "output_type": "stream",
     "text": [
      "{1: 10, 2: 20, 3: 30, 4: 40, 'a': 100, 'b': 200, 'c': 300}\n"
     ]
    }
   ],
   "source": [
    "d1.update(d2)\n",
    "print(d1)"
   ]
  },
  {
   "cell_type": "markdown",
   "id": "31d334e2",
   "metadata": {},
   "source": [
    "11. Write a Python program to sum all the items in a dictionary. "
   ]
  },
  {
   "cell_type": "code",
   "execution_count": 128,
   "id": "6fdad2d9",
   "metadata": {},
   "outputs": [
    {
     "data": {
      "text/plain": [
       "700"
      ]
     },
     "execution_count": 128,
     "metadata": {},
     "output_type": "execute_result"
    }
   ],
   "source": [
    "d=sum(d1.values())\n",
    "d"
   ]
  },
  {
   "cell_type": "markdown",
   "id": "abcee732",
   "metadata": {},
   "source": [
    "12. Write a Python program to multiply all the values in a dictionary."
   ]
  },
  {
   "cell_type": "code",
   "execution_count": 131,
   "id": "5ee5b748",
   "metadata": {},
   "outputs": [
    {
     "name": "stdout",
     "output_type": "stream",
     "text": [
      "-1333800\n"
     ]
    }
   ],
   "source": [
    "#DOUBTTTT\n",
    "\n",
    "\n",
    "my_dict = {'data1':100,'data2':-54,'data3':247}\n",
    "result=1\n",
    "for key in my_dict:    \n",
    "    result=result * my_dict[key]\n",
    "print(result)"
   ]
  },
  {
   "cell_type": "markdown",
   "id": "b64d2011",
   "metadata": {},
   "source": [
    "13Write a Python program to print a dictionary line by line."
   ]
  },
  {
   "cell_type": "code",
   "execution_count": 143,
   "id": "67b78746",
   "metadata": {},
   "outputs": [
    {
     "name": "stdout",
     "output_type": "stream",
     "text": [
      "(1, 100)\n",
      "(2, 200)\n",
      "(3, 300)\n",
      "(4, 400)\n"
     ]
    }
   ],
   "source": [
    "d={1:100, 2:200, 3:300, 4:400}\n",
    "for item in d.items():\n",
    "    print(item, end = \"\\n\")"
   ]
  },
  {
   "cell_type": "markdown",
   "id": "ad901f32",
   "metadata": {},
   "source": [
    "14. Write a Python program to count the number of items in a dictionary value that is a list."
   ]
  },
  {
   "cell_type": "markdown",
   "id": "f5196b82",
   "metadata": {},
   "source": [
    "15. Write a Python program to count the number of items in a dictionary value that is a list.\n",
    "Sample data : {'Math':81, 'Physics':83, 'Chemistry':87}\n",
    "Expected data: [('Chemistry', 87), ('Physics', 83), ('Math', 81)]"
   ]
  },
  {
   "cell_type": "code",
   "execution_count": 3,
   "id": "5f6bf4cc",
   "metadata": {},
   "outputs": [
    {
     "name": "stdout",
     "output_type": "stream",
     "text": [
      "[('Math', 81), ('Physics', 83), ('Chemistry', 87)]\n"
     ]
    }
   ],
   "source": [
    "#doubttt\n",
    "\n",
    "Sample_data = {'Math':81, 'Physics':83, 'Chemistry':87} \n",
    "Expected_data = [('Chemistry', 87), ('Physics', 83), ('Math', 81)]\n",
    "l1 = list(Sample_data.items())\n",
    "print(l1)\n",
    "for i in l1:\n",
    "    l1.count(i)"
   ]
  },
  {
   "cell_type": "code",
   "execution_count": 181,
   "id": "3d44770f",
   "metadata": {},
   "outputs": [
    {
     "name": "stdout",
     "output_type": "stream",
     "text": [
      "3\n"
     ]
    }
   ],
   "source": [
    "print(len(l1))"
   ]
  },
  {
   "cell_type": "code",
   "execution_count": 182,
   "id": "7363f493",
   "metadata": {},
   "outputs": [
    {
     "name": "stdout",
     "output_type": "stream",
     "text": [
      "3\n"
     ]
    }
   ],
   "source": [
    "print(len(Sample_data))"
   ]
  },
  {
   "cell_type": "markdown",
   "id": "3b60a994",
   "metadata": {},
   "source": [
    "16. Write a Python program to sort Counter by value."
   ]
  },
  {
   "cell_type": "code",
   "execution_count": 187,
   "id": "58175162",
   "metadata": {},
   "outputs": [
    {
     "name": "stdout",
     "output_type": "stream",
     "text": [
      "[('Chemistry', 87), ('Physics', 83), ('Math', 81)]\n"
     ]
    }
   ],
   "source": [
    "#DOUBTTT!!\n",
    "\n",
    "\n",
    "from collections import Counter\n",
    "x = Counter({'Math':81, 'Physics':83, 'Chemistry':87})\n",
    "print(x.most_common())"
   ]
  },
  {
   "cell_type": "markdown",
   "id": "8e821ca7",
   "metadata": {},
   "source": [
    "17. Write a Python program to match key values in two dictionaries."
   ]
  },
  {
   "cell_type": "code",
   "execution_count": 188,
   "id": "31561b34",
   "metadata": {},
   "outputs": [
    {
     "name": "stdout",
     "output_type": "stream",
     "text": [
      "key1: 1 is present in both x and y\n"
     ]
    }
   ],
   "source": [
    "#DOUBTT!! \n",
    "\n",
    "\n",
    "x = {'key1': 1, 'key2': 3, 'key3': 2}\n",
    "y = {'key1': 1, 'key2': 2}\n",
    "for (key, value) in set(x.items()) & set(y.items()):\n",
    "    print('%s: %s is present in both x and y' % (key, value))"
   ]
  },
  {
   "cell_type": "markdown",
   "id": "71fb186c",
   "metadata": {},
   "source": [
    "18. Write a Python program to drop empty items from a given dictionary.\n",
    "Original Dictionary:\n",
    "{'c1': 'Red', 'c2': 'Green', 'c3': None}\n",
    "New Dictionary after dropping empty items:\n",
    "{'c1': 'Red', 'c2': 'Green'}"
   ]
  },
  {
   "cell_type": "code",
   "execution_count": 189,
   "id": "e6470733",
   "metadata": {},
   "outputs": [
    {
     "name": "stdout",
     "output_type": "stream",
     "text": [
      "Original Dictionary:\n",
      "{'c1': 'Red', 'c2': 'Green', 'c3': None}\n",
      "New Dictionary after dropping empty items:\n",
      "{'c1': 'Red', 'c2': 'Green'}\n"
     ]
    }
   ],
   "source": [
    "dict1 = {'c1': 'Red', 'c2': 'Green', 'c3':None}\n",
    "print(\"Original Dictionary:\")\n",
    "print(dict1)\n",
    "print(\"New Dictionary after dropping empty items:\")\n",
    "dict1 = {key:value for (key, value) in dict1.items() if value is not None}\n",
    "print(dict1)"
   ]
  },
  {
   "cell_type": "code",
   "execution_count": null,
   "id": "d146f95f",
   "metadata": {},
   "outputs": [],
   "source": []
  }
 ],
 "metadata": {
  "kernelspec": {
   "display_name": "Python 3 (ipykernel)",
   "language": "python",
   "name": "python3"
  },
  "language_info": {
   "codemirror_mode": {
    "name": "ipython",
    "version": 3
   },
   "file_extension": ".py",
   "mimetype": "text/x-python",
   "name": "python",
   "nbconvert_exporter": "python",
   "pygments_lexer": "ipython3",
   "version": "3.9.13"
  }
 },
 "nbformat": 4,
 "nbformat_minor": 5
}
